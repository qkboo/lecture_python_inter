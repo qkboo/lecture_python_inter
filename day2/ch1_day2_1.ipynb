{
 "cells": [
  {
   "cell_type": "markdown",
   "metadata": {},
   "source": [
    "객체의 값 대입\n",
    "\n",
    "- 심볼\n",
    "    - 아이덴티티: `id()`\n",
    "- 값\n",
    "- 심볼테이블\n",
    "- "
   ]
  },
  {
   "cell_type": "code",
   "execution_count": 1,
   "metadata": {},
   "outputs": [],
   "source": [
    "a = b = c = 5"
   ]
  },
  {
   "cell_type": "markdown",
   "metadata": {},
   "source": [
    "#### globals(), locals()"
   ]
  },
  {
   "cell_type": "code",
   "execution_count": 3,
   "metadata": {},
   "outputs": [
    {
     "data": {
      "text/plain": [
       "{'__name__': '__main__',\n",
       " '__doc__': 'Automatically created module for IPython interactive environment',\n",
       " '__package__': None,\n",
       " '__loader__': None,\n",
       " '__spec__': None,\n",
       " '__builtin__': <module 'builtins' (built-in)>,\n",
       " '__builtins__': <module 'builtins' (built-in)>,\n",
       " '_ih': ['', 'a = b = c = 5', 'global()', 'globals()'],\n",
       " '_oh': {},\n",
       " '_dh': ['C:\\\\Users\\\\daddy\\\\MyNotebooks'],\n",
       " 'In': ['', 'a = b = c = 5', 'global()', 'globals()'],\n",
       " 'Out': {},\n",
       " 'get_ipython': <bound method InteractiveShell.get_ipython of <ipykernel.zmqshell.ZMQInteractiveShell object at 0x0000015F7666DB70>>,\n",
       " 'exit': <IPython.core.autocall.ZMQExitAutocall at 0x15f766cba20>,\n",
       " 'quit': <IPython.core.autocall.ZMQExitAutocall at 0x15f766cba20>,\n",
       " '_': '',\n",
       " '__': '',\n",
       " '___': '',\n",
       " '_i': 'global()',\n",
       " '_ii': 'a = b = c = 5',\n",
       " '_iii': '',\n",
       " '_i1': 'a = b = c = 5',\n",
       " 'a': 5,\n",
       " 'b': 5,\n",
       " 'c': 5,\n",
       " '_i2': 'global()',\n",
       " '_i3': 'globals()'}"
      ]
     },
     "execution_count": 3,
     "metadata": {},
     "output_type": "execute_result"
    }
   ],
   "source": [
    "globals()"
   ]
  },
  {
   "cell_type": "code",
   "execution_count": 4,
   "metadata": {},
   "outputs": [
    {
     "data": {
      "text/plain": [
       "{'__name__': '__main__',\n",
       " '__doc__': 'Automatically created module for IPython interactive environment',\n",
       " '__package__': None,\n",
       " '__loader__': None,\n",
       " '__spec__': None,\n",
       " '__builtin__': <module 'builtins' (built-in)>,\n",
       " '__builtins__': <module 'builtins' (built-in)>,\n",
       " '_ih': ['', 'a = b = c = 5', 'global()', 'globals()', 'locals()'],\n",
       " '_oh': {3: {...}},\n",
       " '_dh': ['C:\\\\Users\\\\daddy\\\\MyNotebooks'],\n",
       " 'In': ['', 'a = b = c = 5', 'global()', 'globals()', 'locals()'],\n",
       " 'Out': {3: {...}},\n",
       " 'get_ipython': <bound method InteractiveShell.get_ipython of <ipykernel.zmqshell.ZMQInteractiveShell object at 0x0000015F7666DB70>>,\n",
       " 'exit': <IPython.core.autocall.ZMQExitAutocall at 0x15f766cba20>,\n",
       " 'quit': <IPython.core.autocall.ZMQExitAutocall at 0x15f766cba20>,\n",
       " '_': {...},\n",
       " '__': '',\n",
       " '___': '',\n",
       " '_i': 'globals()',\n",
       " '_ii': 'global()',\n",
       " '_iii': 'a = b = c = 5',\n",
       " '_i1': 'a = b = c = 5',\n",
       " 'a': 5,\n",
       " 'b': 5,\n",
       " 'c': 5,\n",
       " '_i2': 'global()',\n",
       " '_i3': 'globals()',\n",
       " '_3': {...},\n",
       " '_i4': 'locals()'}"
      ]
     },
     "execution_count": 4,
     "metadata": {},
     "output_type": "execute_result"
    }
   ],
   "source": [
    "locals()"
   ]
  },
  {
   "cell_type": "code",
   "execution_count": 5,
   "metadata": {},
   "outputs": [],
   "source": [
    "del a"
   ]
  },
  {
   "cell_type": "code",
   "execution_count": 6,
   "metadata": {},
   "outputs": [
    {
     "data": {
      "text/plain": [
       "{'__name__': '__main__',\n",
       " '__doc__': 'Automatically created module for IPython interactive environment',\n",
       " '__package__': None,\n",
       " '__loader__': None,\n",
       " '__spec__': None,\n",
       " '__builtin__': <module 'builtins' (built-in)>,\n",
       " '__builtins__': <module 'builtins' (built-in)>,\n",
       " '_ih': ['',\n",
       "  'a = b = c = 5',\n",
       "  'global()',\n",
       "  'globals()',\n",
       "  'locals()',\n",
       "  'del a',\n",
       "  'globals()'],\n",
       " '_oh': {3: {...}, 4: {...}},\n",
       " '_dh': ['C:\\\\Users\\\\daddy\\\\MyNotebooks'],\n",
       " 'In': ['',\n",
       "  'a = b = c = 5',\n",
       "  'global()',\n",
       "  'globals()',\n",
       "  'locals()',\n",
       "  'del a',\n",
       "  'globals()'],\n",
       " 'Out': {3: {...}, 4: {...}},\n",
       " 'get_ipython': <bound method InteractiveShell.get_ipython of <ipykernel.zmqshell.ZMQInteractiveShell object at 0x0000015F7666DB70>>,\n",
       " 'exit': <IPython.core.autocall.ZMQExitAutocall at 0x15f766cba20>,\n",
       " 'quit': <IPython.core.autocall.ZMQExitAutocall at 0x15f766cba20>,\n",
       " '_': {...},\n",
       " '__': {...},\n",
       " '___': '',\n",
       " '_i': 'del a',\n",
       " '_ii': 'locals()',\n",
       " '_iii': 'globals()',\n",
       " '_i1': 'a = b = c = 5',\n",
       " 'b': 5,\n",
       " 'c': 5,\n",
       " '_i2': 'global()',\n",
       " '_i3': 'globals()',\n",
       " '_3': {...},\n",
       " '_i4': 'locals()',\n",
       " '_4': {...},\n",
       " '_i5': 'del a',\n",
       " '_i6': 'globals()'}"
      ]
     },
     "execution_count": 6,
     "metadata": {},
     "output_type": "execute_result"
    }
   ],
   "source": [
    "globals()"
   ]
  },
  {
   "cell_type": "markdown",
   "metadata": {},
   "source": [
    "#### 레퍼런스 카운트: sys.getrefcount(o)"
   ]
  },
  {
   "cell_type": "code",
   "execution_count": 7,
   "metadata": {},
   "outputs": [],
   "source": [
    "import sys"
   ]
  },
  {
   "cell_type": "code",
   "execution_count": 8,
   "metadata": {},
   "outputs": [
    {
     "data": {
      "text/plain": [
       "474"
      ]
     },
     "execution_count": 8,
     "metadata": {},
     "output_type": "execute_result"
    }
   ],
   "source": [
    "sys.getrefcount(b)"
   ]
  },
  {
   "cell_type": "code",
   "execution_count": 9,
   "metadata": {},
   "outputs": [
    {
     "data": {
      "text/plain": [
       "object"
      ]
     },
     "execution_count": 9,
     "metadata": {},
     "output_type": "execute_result"
    }
   ],
   "source": [
    "x = object()\n",
    "type(x)"
   ]
  },
  {
   "cell_type": "code",
   "execution_count": 12,
   "metadata": {},
   "outputs": [
    {
     "data": {
      "text/plain": [
       "(float, str)"
      ]
     },
     "execution_count": 12,
     "metadata": {},
     "output_type": "execute_result"
    }
   ],
   "source": [
    "type(1.0), type(\"홍\")"
   ]
  },
  {
   "cell_type": "code",
   "execution_count": 14,
   "metadata": {},
   "outputs": [
    {
     "data": {
      "text/plain": [
       "2"
      ]
     },
     "execution_count": 14,
     "metadata": {},
     "output_type": "execute_result"
    }
   ],
   "source": [
    "sys.getrefcount(x)"
   ]
  },
  {
   "cell_type": "code",
   "execution_count": 15,
   "metadata": {},
   "outputs": [
    {
     "name": "stdout",
     "output_type": "stream",
     "text": [
      "True\n"
     ]
    }
   ],
   "source": [
    "y = x\n",
    "print(x is y)"
   ]
  },
  {
   "cell_type": "code",
   "execution_count": 16,
   "metadata": {},
   "outputs": [
    {
     "data": {
      "text/plain": [
       "(1509554642256, 1509554642256)"
      ]
     },
     "execution_count": 16,
     "metadata": {},
     "output_type": "execute_result"
    }
   ],
   "source": [
    "id(y), id(x)"
   ]
  },
  {
   "cell_type": "code",
   "execution_count": 17,
   "metadata": {},
   "outputs": [],
   "source": [
    "del x"
   ]
  },
  {
   "cell_type": "code",
   "execution_count": 18,
   "metadata": {},
   "outputs": [
    {
     "ename": "NameError",
     "evalue": "name 'x' is not defined",
     "output_type": "error",
     "traceback": [
      "\u001b[1;31m---------------------------------------------------------------------------\u001b[0m",
      "\u001b[1;31mNameError\u001b[0m                                 Traceback (most recent call last)",
      "\u001b[1;32m<ipython-input-18-e3f71ffdf578>\u001b[0m in \u001b[0;36m<module>\u001b[1;34m\u001b[0m\n\u001b[1;32m----> 1\u001b[1;33m \u001b[0mid\u001b[0m\u001b[1;33m(\u001b[0m\u001b[0mx\u001b[0m\u001b[1;33m)\u001b[0m\u001b[1;33m\u001b[0m\u001b[1;33m\u001b[0m\u001b[0m\n\u001b[0m",
      "\u001b[1;31mNameError\u001b[0m: name 'x' is not defined"
     ]
    }
   ],
   "source": [
    "id(x)"
   ]
  },
  {
   "cell_type": "code",
   "execution_count": 20,
   "metadata": {},
   "outputs": [
    {
     "data": {
      "text/plain": [
       "2"
      ]
     },
     "execution_count": 20,
     "metadata": {},
     "output_type": "execute_result"
    }
   ],
   "source": [
    "sys.getrefcount(y)"
   ]
  },
  {
   "cell_type": "code",
   "execution_count": 21,
   "metadata": {},
   "outputs": [
    {
     "data": {
      "text/plain": [
       "{'__name__': '__main__',\n",
       " '__doc__': 'Automatically created module for IPython interactive environment',\n",
       " '__package__': None,\n",
       " '__loader__': None,\n",
       " '__spec__': None,\n",
       " '__builtin__': <module 'builtins' (built-in)>,\n",
       " '__builtins__': <module 'builtins' (built-in)>,\n",
       " '_ih': ['',\n",
       "  'a = b = c = 5',\n",
       "  'global()',\n",
       "  'globals()',\n",
       "  'locals()',\n",
       "  'del a',\n",
       "  'globals()',\n",
       "  'import sys',\n",
       "  'sys.getrefcount(b)',\n",
       "  'x = object()\\ntype(x)',\n",
       "  'type(1)',\n",
       "  'type(1.0)',\n",
       "  'type(1.0), type(\"홍\")',\n",
       "  'sys.getrefcount(ㅌ)',\n",
       "  'sys.getrefcount(x)',\n",
       "  'y = x\\nprint(x is y)',\n",
       "  'id(y), id(x)',\n",
       "  'del x',\n",
       "  'id(x)',\n",
       "  'sys.getrefcount(x)',\n",
       "  'sys.getrefcount(y)',\n",
       "  'globals()'],\n",
       " '_oh': {3: {...},\n",
       "  4: {...},\n",
       "  6: {...},\n",
       "  8: 474,\n",
       "  9: object,\n",
       "  10: int,\n",
       "  11: float,\n",
       "  12: (float, str),\n",
       "  14: 2,\n",
       "  16: (1509554642256, 1509554642256),\n",
       "  20: 2},\n",
       " '_dh': ['C:\\\\Users\\\\daddy\\\\MyNotebooks'],\n",
       " 'In': ['',\n",
       "  'a = b = c = 5',\n",
       "  'global()',\n",
       "  'globals()',\n",
       "  'locals()',\n",
       "  'del a',\n",
       "  'globals()',\n",
       "  'import sys',\n",
       "  'sys.getrefcount(b)',\n",
       "  'x = object()\\ntype(x)',\n",
       "  'type(1)',\n",
       "  'type(1.0)',\n",
       "  'type(1.0), type(\"홍\")',\n",
       "  'sys.getrefcount(ㅌ)',\n",
       "  'sys.getrefcount(x)',\n",
       "  'y = x\\nprint(x is y)',\n",
       "  'id(y), id(x)',\n",
       "  'del x',\n",
       "  'id(x)',\n",
       "  'sys.getrefcount(x)',\n",
       "  'sys.getrefcount(y)',\n",
       "  'globals()'],\n",
       " 'Out': {3: {...},\n",
       "  4: {...},\n",
       "  6: {...},\n",
       "  8: 474,\n",
       "  9: object,\n",
       "  10: int,\n",
       "  11: float,\n",
       "  12: (float, str),\n",
       "  14: 2,\n",
       "  16: (1509554642256, 1509554642256),\n",
       "  20: 2},\n",
       " 'get_ipython': <bound method InteractiveShell.get_ipython of <ipykernel.zmqshell.ZMQInteractiveShell object at 0x0000015F7666DB70>>,\n",
       " 'exit': <IPython.core.autocall.ZMQExitAutocall at 0x15f766cba20>,\n",
       " 'quit': <IPython.core.autocall.ZMQExitAutocall at 0x15f766cba20>,\n",
       " '_': 2,\n",
       " '__': (1509554642256, 1509554642256),\n",
       " '___': 2,\n",
       " '_i': 'sys.getrefcount(y)',\n",
       " '_ii': 'sys.getrefcount(x)',\n",
       " '_iii': 'id(x)',\n",
       " '_i1': 'a = b = c = 5',\n",
       " 'b': 5,\n",
       " 'c': 5,\n",
       " '_i2': 'global()',\n",
       " '_i3': 'globals()',\n",
       " '_3': {...},\n",
       " '_i4': 'locals()',\n",
       " '_4': {...},\n",
       " '_i5': 'del a',\n",
       " '_i6': 'globals()',\n",
       " '_6': {...},\n",
       " '_i7': 'import sys',\n",
       " 'sys': <module 'sys' (built-in)>,\n",
       " '_i8': 'sys.getrefcount(b)',\n",
       " '_8': 474,\n",
       " '_i9': 'x = object()\\ntype(x)',\n",
       " '_9': object,\n",
       " '_i10': 'type(1)',\n",
       " '_10': int,\n",
       " '_i11': 'type(1.0)',\n",
       " '_11': float,\n",
       " '_i12': 'type(1.0), type(\"홍\")',\n",
       " '_12': (float, str),\n",
       " '_i13': 'sys.getrefcount(ㅌ)',\n",
       " '_i14': 'sys.getrefcount(x)',\n",
       " '_14': 2,\n",
       " '_i15': 'y = x\\nprint(x is y)',\n",
       " 'y': <object at 0x15f7877dd50>,\n",
       " '_i16': 'id(y), id(x)',\n",
       " '_16': (1509554642256, 1509554642256),\n",
       " '_i17': 'del x',\n",
       " '_i18': 'id(x)',\n",
       " '_i19': 'sys.getrefcount(x)',\n",
       " '_i20': 'sys.getrefcount(y)',\n",
       " '_20': 2,\n",
       " '_i21': 'globals()'}"
      ]
     },
     "execution_count": 21,
     "metadata": {},
     "output_type": "execute_result"
    }
   ],
   "source": [
    "globals()"
   ]
  },
  {
   "cell_type": "markdown",
   "metadata": {},
   "source": [
    "## Mutable, Immutable"
   ]
  },
  {
   "cell_type": "markdown",
   "metadata": {},
   "source": [
    "mutable: list, dict"
   ]
  },
  {
   "cell_type": "code",
   "execution_count": 22,
   "metadata": {},
   "outputs": [
    {
     "data": {
      "text/plain": [
       "[10, 100, '홍길동', [1, 2, 3]]"
      ]
     },
     "execution_count": 22,
     "metadata": {},
     "output_type": "execute_result"
    }
   ],
   "source": [
    "list1 = [ 10, 100, '홍길동', [1,2,3]]\n",
    "list1"
   ]
  },
  {
   "cell_type": "code",
   "execution_count": 23,
   "metadata": {},
   "outputs": [
    {
     "data": {
      "text/plain": [
       "10"
      ]
     },
     "execution_count": 23,
     "metadata": {},
     "output_type": "execute_result"
    }
   ],
   "source": [
    "list1[0]"
   ]
  },
  {
   "cell_type": "code",
   "execution_count": 24,
   "metadata": {},
   "outputs": [
    {
     "data": {
      "text/plain": [
       "['파이썬', 100, '홍길동', [1, 2, 3]]"
      ]
     },
     "execution_count": 24,
     "metadata": {},
     "output_type": "execute_result"
    }
   ],
   "source": [
    "list1[0] = '파이썬'\n",
    "list1"
   ]
  },
  {
   "cell_type": "code",
   "execution_count": 25,
   "metadata": {},
   "outputs": [
    {
     "data": {
      "text/plain": [
       "{'A': 'a', '키': '12345'}"
      ]
     },
     "execution_count": 25,
     "metadata": {},
     "output_type": "execute_result"
    }
   ],
   "source": [
    "dic1 = {'A': 'a', '키': '12345'}\n",
    "dic1"
   ]
  },
  {
   "cell_type": "code",
   "execution_count": 27,
   "metadata": {},
   "outputs": [
    {
     "data": {
      "text/plain": [
       "'a'"
      ]
     },
     "execution_count": 27,
     "metadata": {},
     "output_type": "execute_result"
    }
   ],
   "source": [
    "dic1['A']"
   ]
  },
  {
   "cell_type": "code",
   "execution_count": 28,
   "metadata": {},
   "outputs": [
    {
     "data": {
      "text/plain": [
       "{'A': '1000000000', '키': '12345'}"
      ]
     },
     "execution_count": 28,
     "metadata": {},
     "output_type": "execute_result"
    }
   ],
   "source": [
    "dic1['A'] = '1000000000'\n",
    "dic1"
   ]
  },
  {
   "cell_type": "markdown",
   "metadata": {},
   "source": [
    "#### Immutable: number, string, tuple, bytes..."
   ]
  },
  {
   "cell_type": "code",
   "execution_count": 29,
   "metadata": {},
   "outputs": [
    {
     "data": {
      "text/plain": [
       "'파이썬 멋집니다'"
      ]
     },
     "execution_count": 29,
     "metadata": {},
     "output_type": "execute_result"
    }
   ],
   "source": [
    "msg = \"파이썬 멋집니다\"\n",
    "msg"
   ]
  },
  {
   "cell_type": "code",
   "execution_count": 30,
   "metadata": {},
   "outputs": [
    {
     "data": {
      "text/plain": [
       "('파', '멋')"
      ]
     },
     "execution_count": 30,
     "metadata": {},
     "output_type": "execute_result"
    }
   ],
   "source": [
    "msg[0], msg[4]"
   ]
  },
  {
   "cell_type": "code",
   "execution_count": 31,
   "metadata": {},
   "outputs": [
    {
     "ename": "TypeError",
     "evalue": "'str' object does not support item assignment",
     "output_type": "error",
     "traceback": [
      "\u001b[1;31m---------------------------------------------------------------------------\u001b[0m",
      "\u001b[1;31mTypeError\u001b[0m                                 Traceback (most recent call last)",
      "\u001b[1;32m<ipython-input-31-16e24e5e4388>\u001b[0m in \u001b[0;36m<module>\u001b[1;34m\u001b[0m\n\u001b[1;32m----> 1\u001b[1;33m \u001b[0mmsg\u001b[0m\u001b[1;33m[\u001b[0m\u001b[1;36m0\u001b[0m\u001b[1;33m]\u001b[0m \u001b[1;33m=\u001b[0m \u001b[1;34m'싸'\u001b[0m\u001b[1;33m\u001b[0m\u001b[1;33m\u001b[0m\u001b[0m\n\u001b[0m\u001b[0;32m      2\u001b[0m \u001b[0mmsg\u001b[0m\u001b[1;33m\u001b[0m\u001b[1;33m\u001b[0m\u001b[0m\n",
      "\u001b[1;31mTypeError\u001b[0m: 'str' object does not support item assignment"
     ]
    }
   ],
   "source": [
    "msg[0] = '싸'\n",
    "msg"
   ]
  },
  {
   "cell_type": "markdown",
   "metadata": {},
   "source": [
    "#### 동등 비교\n",
    "\n",
    "1. `==`: 값\n",
    "2. `is`: 객체 심볼 비교"
   ]
  },
  {
   "cell_type": "code",
   "execution_count": 32,
   "metadata": {},
   "outputs": [],
   "source": [
    "list1 = [1, 2, 3]\n",
    "list2 = [1, 2, 3]"
   ]
  },
  {
   "cell_type": "code",
   "execution_count": 33,
   "metadata": {},
   "outputs": [
    {
     "data": {
      "text/plain": [
       "(1509565307848, 1509559024264)"
      ]
     },
     "execution_count": 33,
     "metadata": {},
     "output_type": "execute_result"
    }
   ],
   "source": [
    "id(list1), id(list2)"
   ]
  },
  {
   "cell_type": "code",
   "execution_count": 34,
   "metadata": {},
   "outputs": [
    {
     "data": {
      "text/plain": [
       "True"
      ]
     },
     "execution_count": 34,
     "metadata": {},
     "output_type": "execute_result"
    }
   ],
   "source": [
    "list1 == list2"
   ]
  },
  {
   "cell_type": "code",
   "execution_count": 35,
   "metadata": {},
   "outputs": [
    {
     "data": {
      "text/plain": [
       "False"
      ]
     },
     "execution_count": 35,
     "metadata": {},
     "output_type": "execute_result"
    }
   ],
   "source": [
    "list1 is list2"
   ]
  },
  {
   "cell_type": "code",
   "execution_count": 36,
   "metadata": {},
   "outputs": [],
   "source": [
    "str1 = '가나'\n",
    "str2 = '가나'"
   ]
  },
  {
   "cell_type": "code",
   "execution_count": 37,
   "metadata": {},
   "outputs": [
    {
     "data": {
      "text/plain": [
       "(1509520657024, 1509561498240)"
      ]
     },
     "execution_count": 37,
     "metadata": {},
     "output_type": "execute_result"
    }
   ],
   "source": [
    "id(str1), id(str2)"
   ]
  },
  {
   "cell_type": "code",
   "execution_count": 38,
   "metadata": {},
   "outputs": [
    {
     "data": {
      "text/plain": [
       "True"
      ]
     },
     "execution_count": 38,
     "metadata": {},
     "output_type": "execute_result"
    }
   ],
   "source": [
    "str1 == str2"
   ]
  },
  {
   "cell_type": "code",
   "execution_count": 39,
   "metadata": {},
   "outputs": [
    {
     "data": {
      "text/plain": [
       "True"
      ]
     },
     "execution_count": 39,
     "metadata": {},
     "output_type": "execute_result"
    }
   ],
   "source": [
    "str1 == '가나'"
   ]
  },
  {
   "cell_type": "code",
   "execution_count": 41,
   "metadata": {},
   "outputs": [
    {
     "data": {
      "text/plain": [
       "False"
      ]
     },
     "execution_count": 41,
     "metadata": {},
     "output_type": "execute_result"
    }
   ],
   "source": [
    "str1 is '가나'"
   ]
  }
 ],
 "metadata": {
  "kernelspec": {
   "display_name": "Py36_User",
   "language": "python",
   "name": "py36_jupyter"
  },
  "language_info": {
   "codemirror_mode": {
    "name": "ipython",
    "version": 3
   },
   "file_extension": ".py",
   "mimetype": "text/x-python",
   "name": "python",
   "nbconvert_exporter": "python",
   "pygments_lexer": "ipython3",
   "version": "3.6.12"
  }
 },
 "nbformat": 4,
 "nbformat_minor": 4
}
