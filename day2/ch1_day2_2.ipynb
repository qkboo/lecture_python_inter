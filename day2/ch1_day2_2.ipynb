{
 "cells": [
  {
   "cell_type": "markdown",
   "metadata": {},
   "source": [
    "# 객체의 참조, 복사"
   ]
  },
  {
   "cell_type": "code",
   "execution_count": null,
   "metadata": {},
   "outputs": [],
   "source": [
    "a = 1\n",
    "b = a"
   ]
  },
  {
   "cell_type": "code",
   "execution_count": null,
   "metadata": {},
   "outputs": [],
   "source": [
    "id(a), id(b)"
   ]
  },
  {
   "cell_type": "code",
   "execution_count": null,
   "metadata": {},
   "outputs": [],
   "source": [
    "a = [1,2,3]\n",
    "b = [4,5,6]\n",
    "x = [a, b, 100]"
   ]
  },
  {
   "cell_type": "code",
   "execution_count": null,
   "metadata": {},
   "outputs": [],
   "source": [
    "y = x"
   ]
  },
  {
   "cell_type": "code",
   "execution_count": null,
   "metadata": {},
   "outputs": [],
   "source": [
    "id(a), id(b), id(x), id(y)"
   ]
  },
  {
   "cell_type": "code",
   "execution_count": null,
   "metadata": {},
   "outputs": [],
   "source": [
    "id(x[0]), id(x[1])"
   ]
  },
  {
   "cell_type": "code",
   "execution_count": null,
   "metadata": {},
   "outputs": [],
   "source": [
    "a[0] = 100\n",
    "a, x[0]"
   ]
  },
  {
   "cell_type": "markdown",
   "metadata": {},
   "source": [
    "### 앝은 복사\n",
    "\n",
    "copy module"
   ]
  },
  {
   "cell_type": "code",
   "execution_count": null,
   "metadata": {},
   "outputs": [],
   "source": [
    "import copy"
   ]
  },
  {
   "cell_type": "code",
   "execution_count": null,
   "metadata": {},
   "outputs": [],
   "source": [
    "a = [1,2,3]\n",
    "b = [4,5,6]\n",
    "x = copy.copy(a)\n",
    "y = copy.copy(b)"
   ]
  },
  {
   "cell_type": "code",
   "execution_count": null,
   "metadata": {},
   "outputs": [],
   "source": [
    "id(a), id(b), id(x), id(y)"
   ]
  },
  {
   "cell_type": "markdown",
   "metadata": {},
   "source": [
    "### 깊은 복사\n",
    "\n",
    "`copy.deepcopy()`"
   ]
  },
  {
   "cell_type": "code",
   "execution_count": null,
   "metadata": {},
   "outputs": [],
   "source": [
    "a = [1,2,3]\n",
    "b = [4,5,a]\n",
    "x = [a, b, 100]\n",
    "y = copy.copy(x)"
   ]
  },
  {
   "cell_type": "code",
   "execution_count": null,
   "metadata": {},
   "outputs": [],
   "source": [
    "a = [1,2,3]\n",
    "b = [4,5,a]\n",
    "x = [a, b, 100]\n",
    "y = copy.deepcopy(x)"
   ]
  },
  {
   "cell_type": "code",
   "execution_count": null,
   "metadata": {},
   "outputs": [],
   "source": [
    "a is x[0]"
   ]
  },
  {
   "cell_type": "code",
   "execution_count": null,
   "metadata": {},
   "outputs": [],
   "source": [
    "id(a), id(x[0])"
   ]
  },
  {
   "cell_type": "markdown",
   "metadata": {},
   "source": [
    "# 수치형"
   ]
  },
  {
   "cell_type": "code",
   "execution_count": null,
   "metadata": {},
   "outputs": [],
   "source": [
    "import sys\n",
    "\n",
    "sys.maxsize"
   ]
  },
  {
   "cell_type": "code",
   "execution_count": null,
   "metadata": {},
   "outputs": [],
   "source": [
    "type(1), type(0b111), type(1.0)"
   ]
  },
  {
   "cell_type": "code",
   "execution_count": null,
   "metadata": {},
   "outputs": [],
   "source": [
    "isinstance(0.1, float)"
   ]
  },
  {
   "cell_type": "markdown",
   "metadata": {},
   "source": [
    "### 숫자변환"
   ]
  },
  {
   "cell_type": "code",
   "execution_count": null,
   "metadata": {},
   "outputs": [],
   "source": [
    "i = 0b010011\n",
    "i"
   ]
  },
  {
   "cell_type": "code",
   "execution_count": null,
   "metadata": {},
   "outputs": [],
   "source": [
    "type(i)"
   ]
  },
  {
   "cell_type": "code",
   "execution_count": null,
   "metadata": {},
   "outputs": [],
   "source": [
    "hex(i)"
   ]
  },
  {
   "cell_type": "code",
   "execution_count": null,
   "metadata": {},
   "outputs": [],
   "source": [
    "oct(i)"
   ]
  },
  {
   "cell_type": "code",
   "execution_count": null,
   "metadata": {},
   "outputs": [],
   "source": []
  },
  {
   "cell_type": "code",
   "execution_count": null,
   "metadata": {},
   "outputs": [],
   "source": []
  },
  {
   "cell_type": "markdown",
   "metadata": {},
   "source": [
    "## 시퀀스"
   ]
  },
  {
   "cell_type": "code",
   "execution_count": null,
   "metadata": {},
   "outputs": [],
   "source": [
    "li = ['abc', 25, 3.14, 9]"
   ]
  },
  {
   "cell_type": "code",
   "execution_count": null,
   "metadata": {},
   "outputs": [],
   "source": [
    "li[0]"
   ]
  },
  {
   "cell_type": "code",
   "execution_count": null,
   "metadata": {},
   "outputs": [],
   "source": [
    "id(li[0]), id('abc')"
   ]
  },
  {
   "cell_type": "code",
   "execution_count": null,
   "metadata": {},
   "outputs": [],
   "source": [
    "id(li[1]), id(25)"
   ]
  },
  {
   "cell_type": "code",
   "execution_count": null,
   "metadata": {},
   "outputs": [],
   "source": [
    "li[1:4]"
   ]
  },
  {
   "cell_type": "code",
   "execution_count": null,
   "metadata": {},
   "outputs": [],
   "source": [
    "a = li[1:4]"
   ]
  },
  {
   "cell_type": "code",
   "execution_count": null,
   "metadata": {},
   "outputs": [],
   "source": [
    "id(a[0]), id(li[1])"
   ]
  },
  {
   "cell_type": "code",
   "execution_count": null,
   "metadata": {},
   "outputs": [],
   "source": [
    "id(a), id(li)"
   ]
  },
  {
   "cell_type": "code",
   "execution_count": null,
   "metadata": {},
   "outputs": [],
   "source": [
    "hex(id(a)), hex(id(li))"
   ]
  },
  {
   "cell_type": "code",
   "execution_count": null,
   "metadata": {},
   "outputs": [],
   "source": [
    "li[:]"
   ]
  },
  {
   "cell_type": "code",
   "execution_count": null,
   "metadata": {},
   "outputs": [],
   "source": [
    "li[:-1]"
   ]
  },
  {
   "cell_type": "code",
   "execution_count": null,
   "metadata": {},
   "outputs": [],
   "source": [
    "li[-2:]"
   ]
  },
  {
   "cell_type": "code",
   "execution_count": null,
   "metadata": {},
   "outputs": [],
   "source": [
    "li"
   ]
  },
  {
   "cell_type": "markdown",
   "metadata": {},
   "source": [
    "#### list.sort(), list.reverse() 특징\n",
    "\n",
    "리스트 객체를 업데이트 한다!"
   ]
  },
  {
   "cell_type": "code",
   "execution_count": 58,
   "metadata": {},
   "outputs": [],
   "source": [
    "li = ['abc', 25, 3.14, 9]"
   ]
  },
  {
   "cell_type": "code",
   "execution_count": 59,
   "metadata": {},
   "outputs": [
    {
     "ename": "TypeError",
     "evalue": "'<' not supported between instances of 'int' and 'str'",
     "output_type": "error",
     "traceback": [
      "\u001b[1;31m---------------------------------------------------------------------------\u001b[0m",
      "\u001b[1;31mTypeError\u001b[0m                                 Traceback (most recent call last)",
      "\u001b[1;32m<ipython-input-59-5ae118ea10e5>\u001b[0m in \u001b[0;36m<module>\u001b[1;34m\u001b[0m\n\u001b[1;32m----> 1\u001b[1;33m \u001b[0mli\u001b[0m\u001b[1;33m.\u001b[0m\u001b[0msort\u001b[0m\u001b[1;33m(\u001b[0m\u001b[1;33m)\u001b[0m\u001b[1;33m\u001b[0m\u001b[1;33m\u001b[0m\u001b[0m\n\u001b[0m\u001b[0;32m      2\u001b[0m \u001b[0mli\u001b[0m\u001b[1;33m\u001b[0m\u001b[1;33m\u001b[0m\u001b[0m\n",
      "\u001b[1;31mTypeError\u001b[0m: '<' not supported between instances of 'int' and 'str'"
     ]
    }
   ],
   "source": [
    "li.sort()\n",
    "li"
   ]
  },
  {
   "cell_type": "code",
   "execution_count": null,
   "metadata": {},
   "outputs": [],
   "source": [
    "li = [0b1, 25, 3.14, 9]"
   ]
  },
  {
   "cell_type": "code",
   "execution_count": null,
   "metadata": {},
   "outputs": [],
   "source": [
    "li.sort()\n",
    "li"
   ]
  },
  {
   "cell_type": "code",
   "execution_count": null,
   "metadata": {},
   "outputs": [],
   "source": [
    "li.reverse()\n",
    "li"
   ]
  },
  {
   "cell_type": "code",
   "execution_count": null,
   "metadata": {},
   "outputs": [],
   "source": [
    "li"
   ]
  },
  {
   "cell_type": "markdown",
   "metadata": {},
   "source": [
    "내장 함수 `sorted()`, `reversed()` 이용\n",
    " - https://docs.python.org/3/library/functions.html#reversed\n",
    " - https://docs.python.org/3/library/functions.html#sorted\n",
    " \n",
    " - 새 객체 생성"
   ]
  },
  {
   "cell_type": "code",
   "execution_count": 63,
   "metadata": {},
   "outputs": [],
   "source": [
    "li = [0b1, 25, 3.14, 9]"
   ]
  },
  {
   "cell_type": "code",
   "execution_count": 65,
   "metadata": {},
   "outputs": [
    {
     "data": {
      "text/plain": [
       "<list_reverseiterator at 0x2e65e702ac8>"
      ]
     },
     "execution_count": 65,
     "metadata": {},
     "output_type": "execute_result"
    }
   ],
   "source": [
    "li_re = reversed(li)\n",
    "li_re"
   ]
  },
  {
   "cell_type": "code",
   "execution_count": 66,
   "metadata": {},
   "outputs": [
    {
     "data": {
      "text/plain": [
       "list_reverseiterator"
      ]
     },
     "execution_count": 66,
     "metadata": {},
     "output_type": "execute_result"
    }
   ],
   "source": [
    "type(li_re)"
   ]
  },
  {
   "cell_type": "code",
   "execution_count": null,
   "metadata": {},
   "outputs": [],
   "source": []
  },
  {
   "cell_type": "code",
   "execution_count": 61,
   "metadata": {},
   "outputs": [
    {
     "data": {
      "text/plain": [
       "[9, 3.14, 25, 1]"
      ]
     },
     "execution_count": 61,
     "metadata": {},
     "output_type": "execute_result"
    }
   ],
   "source": [
    "list(reversed(li))"
   ]
  },
  {
   "cell_type": "code",
   "execution_count": null,
   "metadata": {},
   "outputs": [],
   "source": [
    "list(sorted(li))"
   ]
  },
  {
   "cell_type": "code",
   "execution_count": 84,
   "metadata": {},
   "outputs": [],
   "source": [
    "li = [0b1, 25, 3.14, 9]"
   ]
  },
  {
   "cell_type": "code",
   "execution_count": 85,
   "metadata": {},
   "outputs": [],
   "source": [
    "li[0:2] = [1,2]"
   ]
  },
  {
   "cell_type": "code",
   "execution_count": 86,
   "metadata": {},
   "outputs": [
    {
     "data": {
      "text/plain": [
       "[1, 2, 3.14, 9]"
      ]
     },
     "execution_count": 86,
     "metadata": {},
     "output_type": "execute_result"
    }
   ],
   "source": [
    "li"
   ]
  },
  {
   "cell_type": "markdown",
   "metadata": {},
   "source": [
    "### 튜플"
   ]
  },
  {
   "cell_type": "code",
   "execution_count": 67,
   "metadata": {},
   "outputs": [
    {
     "data": {
      "text/plain": [
       "(1,)"
      ]
     },
     "execution_count": 67,
     "metadata": {},
     "output_type": "execute_result"
    }
   ],
   "source": [
    "t = 1,\n",
    "t"
   ]
  },
  {
   "cell_type": "code",
   "execution_count": 69,
   "metadata": {},
   "outputs": [],
   "source": [
    "t = tuple()"
   ]
  },
  {
   "cell_type": "code",
   "execution_count": 70,
   "metadata": {},
   "outputs": [
    {
     "data": {
      "text/plain": [
       "()"
      ]
     },
     "execution_count": 70,
     "metadata": {},
     "output_type": "execute_result"
    }
   ],
   "source": [
    "t"
   ]
  },
  {
   "cell_type": "code",
   "execution_count": 71,
   "metadata": {},
   "outputs": [],
   "source": [
    "t = ()"
   ]
  },
  {
   "cell_type": "code",
   "execution_count": 72,
   "metadata": {},
   "outputs": [
    {
     "data": {
      "text/plain": [
       "(1, 2, 3)"
      ]
     },
     "execution_count": 72,
     "metadata": {},
     "output_type": "execute_result"
    }
   ],
   "source": [
    "t = 1,2,3\n",
    "t"
   ]
  },
  {
   "cell_type": "code",
   "execution_count": 73,
   "metadata": {},
   "outputs": [
    {
     "data": {
      "text/plain": [
       "1"
      ]
     },
     "execution_count": 73,
     "metadata": {},
     "output_type": "execute_result"
    }
   ],
   "source": [
    "t[0]"
   ]
  },
  {
   "cell_type": "code",
   "execution_count": 74,
   "metadata": {},
   "outputs": [
    {
     "data": {
      "text/plain": [
       "(2,)"
      ]
     },
     "execution_count": 74,
     "metadata": {},
     "output_type": "execute_result"
    }
   ],
   "source": [
    "t[1:2]"
   ]
  },
  {
   "cell_type": "code",
   "execution_count": 75,
   "metadata": {},
   "outputs": [
    {
     "data": {
      "text/plain": [
       "(1, ['1', '2'], 3)"
      ]
     },
     "execution_count": 75,
     "metadata": {},
     "output_type": "execute_result"
    }
   ],
   "source": [
    "li = list(t)\n",
    "li[1] = ['1','2']\n",
    "t = tuple(li)\n",
    "t"
   ]
  },
  {
   "cell_type": "code",
   "execution_count": 76,
   "metadata": {},
   "outputs": [
    {
     "data": {
      "text/plain": [
       "['1', '2']"
      ]
     },
     "execution_count": 76,
     "metadata": {},
     "output_type": "execute_result"
    }
   ],
   "source": [
    "t[1]"
   ]
  },
  {
   "cell_type": "markdown",
   "metadata": {},
   "source": [
    "---"
   ]
  },
  {
   "cell_type": "markdown",
   "metadata": {},
   "source": [
    "## 문자열"
   ]
  },
  {
   "cell_type": "code",
   "execution_count": null,
   "metadata": {},
   "outputs": [],
   "source": [
    "\"강태의\\' 방'\""
   ]
  },
  {
   "cell_type": "code",
   "execution_count": 78,
   "metadata": {},
   "outputs": [
    {
     "data": {
      "text/plain": [
       "'Hello world'"
      ]
     },
     "execution_count": 78,
     "metadata": {},
     "output_type": "execute_result"
    }
   ],
   "source": [
    "str = \"Hello world\"\n",
    "str"
   ]
  },
  {
   "cell_type": "code",
   "execution_count": 79,
   "metadata": {},
   "outputs": [
    {
     "data": {
      "text/plain": [
       "11"
      ]
     },
     "execution_count": 79,
     "metadata": {},
     "output_type": "execute_result"
    }
   ],
   "source": [
    "len(str)"
   ]
  },
  {
   "cell_type": "markdown",
   "metadata": {},
   "source": [
    "docstring"
   ]
  },
  {
   "cell_type": "code",
   "execution_count": 82,
   "metadata": {},
   "outputs": [],
   "source": [
    "def myfunction():\n",
    "    \"\"\"\n",
    "    이 노트북은.....\n",
    "    \"\"\"\n",
    "    pass"
   ]
  },
  {
   "cell_type": "code",
   "execution_count": 83,
   "metadata": {},
   "outputs": [
    {
     "data": {
      "text/plain": [
       "'\\n    이 노트북은.....\\n    '"
      ]
     },
     "execution_count": 83,
     "metadata": {},
     "output_type": "execute_result"
    }
   ],
   "source": [
    "myfunction.__doc__"
   ]
  },
  {
   "cell_type": "code",
   "execution_count": 87,
   "metadata": {},
   "outputs": [
    {
     "data": {
      "text/plain": [
       "'ell'"
      ]
     },
     "execution_count": 87,
     "metadata": {},
     "output_type": "execute_result"
    }
   ],
   "source": [
    "hello = \"hello python\"\n",
    "hello[1:4]"
   ]
  },
  {
   "cell_type": "code",
   "execution_count": 89,
   "metadata": {},
   "outputs": [
    {
     "ename": "TypeError",
     "evalue": "'str' object does not support item assignment",
     "output_type": "error",
     "traceback": [
      "\u001b[1;31m---------------------------------------------------------------------------\u001b[0m",
      "\u001b[1;31mTypeError\u001b[0m                                 Traceback (most recent call last)",
      "\u001b[1;32m<ipython-input-89-c0d9db3a3e84>\u001b[0m in \u001b[0;36m<module>\u001b[1;34m\u001b[0m\n\u001b[1;32m----> 1\u001b[1;33m \u001b[0mhello\u001b[0m\u001b[1;33m[\u001b[0m\u001b[1;36m1\u001b[0m\u001b[1;33m]\u001b[0m \u001b[1;33m=\u001b[0m \u001b[1;34m'a'\u001b[0m\u001b[1;33m\u001b[0m\u001b[1;33m\u001b[0m\u001b[0m\n\u001b[0m",
      "\u001b[1;31mTypeError\u001b[0m: 'str' object does not support item assignment"
     ]
    }
   ],
   "source": [
    "hello[1] = 'a'"
   ]
  },
  {
   "cell_type": "code",
   "execution_count": 88,
   "metadata": {},
   "outputs": [
    {
     "ename": "TypeError",
     "evalue": "'str' object does not support item assignment",
     "output_type": "error",
     "traceback": [
      "\u001b[1;31m---------------------------------------------------------------------------\u001b[0m",
      "\u001b[1;31mTypeError\u001b[0m                                 Traceback (most recent call last)",
      "\u001b[1;32m<ipython-input-88-de7b6a9993fa>\u001b[0m in \u001b[0;36m<module>\u001b[1;34m\u001b[0m\n\u001b[1;32m----> 1\u001b[1;33m \u001b[0mhello\u001b[0m\u001b[1;33m[\u001b[0m\u001b[1;36m0\u001b[0m\u001b[1;33m:\u001b[0m\u001b[1;36m5\u001b[0m\u001b[1;33m]\u001b[0m \u001b[1;33m=\u001b[0m \u001b[1;34m\"하나\"\u001b[0m\u001b[1;33m\u001b[0m\u001b[1;33m\u001b[0m\u001b[0m\n\u001b[0m",
      "\u001b[1;31mTypeError\u001b[0m: 'str' object does not support item assignment"
     ]
    }
   ],
   "source": [
    "hello[0:5] = \"하나\""
   ]
  },
  {
   "cell_type": "markdown",
   "metadata": {},
   "source": [
    "\"홍길동\"의 전화번호는 010-1234-5678 이다. \"홍길동\" 전화번호에서 -을 제외하고 숫자 부분만 따로 출력하게 하자."
   ]
  },
  {
   "cell_type": "code",
   "execution_count": 98,
   "metadata": {},
   "outputs": [],
   "source": [
    "phone = \"010-1234-5678\""
   ]
  },
  {
   "cell_type": "code",
   "execution_count": 91,
   "metadata": {},
   "outputs": [
    {
     "data": {
      "text/plain": [
       "str"
      ]
     },
     "execution_count": 91,
     "metadata": {},
     "output_type": "execute_result"
    }
   ],
   "source": [
    "type(phone)"
   ]
  },
  {
   "cell_type": "code",
   "execution_count": 99,
   "metadata": {},
   "outputs": [
    {
     "data": {
      "text/plain": [
       "['010', '1234', '5678']"
      ]
     },
     "execution_count": 99,
     "metadata": {},
     "output_type": "execute_result"
    }
   ],
   "source": [
    "phone = phone.split('-')\n",
    "phone"
   ]
  },
  {
   "cell_type": "code",
   "execution_count": 94,
   "metadata": {},
   "outputs": [
    {
     "data": {
      "text/plain": [
       "'010 1234 5678'"
      ]
     },
     "execution_count": 94,
     "metadata": {},
     "output_type": "execute_result"
    }
   ],
   "source": [
    "\" \".join(phone)"
   ]
  },
  {
   "cell_type": "code",
   "execution_count": 95,
   "metadata": {},
   "outputs": [
    {
     "data": {
      "text/plain": [
       "(['010', '1234'], [])"
      ]
     },
     "execution_count": 95,
     "metadata": {},
     "output_type": "execute_result"
    }
   ],
   "source": [
    "phone[:2], phone[3:6]"
   ]
  },
  {
   "cell_type": "markdown",
   "metadata": {},
   "source": [
    "경로를 분해."
   ]
  },
  {
   "cell_type": "code",
   "execution_count": 101,
   "metadata": {},
   "outputs": [
    {
     "data": {
      "text/plain": [
       "'\\\\usr\\\\local\\\\bin\\\\python'"
      ]
     },
     "execution_count": 101,
     "metadata": {},
     "output_type": "execute_result"
    }
   ],
   "source": [
    "s = '/usr/local/bin/python'\n",
    "\"\\\\\".join(s.split('/'))"
   ]
  },
  {
   "cell_type": "code",
   "execution_count": 102,
   "metadata": {},
   "outputs": [
    {
     "data": {
      "text/plain": [
       "'Hello python'"
      ]
     },
     "execution_count": 102,
     "metadata": {},
     "output_type": "execute_result"
    }
   ],
   "source": [
    "msg = \"Hello python\"\n",
    "msg"
   ]
  },
  {
   "cell_type": "code",
   "execution_count": 103,
   "metadata": {},
   "outputs": [
    {
     "name": "stdout",
     "output_type": "stream",
     "text": [
      "OK\n"
     ]
    }
   ],
   "source": [
    "if msg.startswith('He'):\n",
    "    print('OK')"
   ]
  },
  {
   "cell_type": "code",
   "execution_count": 104,
   "metadata": {},
   "outputs": [
    {
     "name": "stdout",
     "output_type": "stream",
     "text": [
      "OK\n"
     ]
    }
   ],
   "source": [
    "if 'py' in msg:\n",
    "    print('OK')"
   ]
  },
  {
   "cell_type": "code",
   "execution_count": 105,
   "metadata": {},
   "outputs": [
    {
     "name": "stdout",
     "output_type": "stream",
     "text": [
      "OK\n"
     ]
    }
   ],
   "source": [
    "if msg.find('pyt'):\n",
    "    print('OK')"
   ]
  },
  {
   "cell_type": "markdown",
   "metadata": {},
   "source": [
    "### 딕트"
   ]
  },
  {
   "cell_type": "code",
   "execution_count": 107,
   "metadata": {},
   "outputs": [
    {
     "data": {
      "text/plain": [
       "{'A': 90, 'B': 80, 'C': 70, 'D': 60, 'F': 50}"
      ]
     },
     "execution_count": 107,
     "metadata": {},
     "output_type": "execute_result"
    }
   ],
   "source": [
    "dic1 = {'A':90, 'B':80, 'C':70, 'D':60, 'F':50}\n",
    "dic1"
   ]
  },
  {
   "cell_type": "code",
   "execution_count": 108,
   "metadata": {},
   "outputs": [
    {
     "ename": "KeyError",
     "evalue": "1",
     "output_type": "error",
     "traceback": [
      "\u001b[1;31m---------------------------------------------------------------------------\u001b[0m",
      "\u001b[1;31mKeyError\u001b[0m                                  Traceback (most recent call last)",
      "\u001b[1;32m<ipython-input-108-80162f548931>\u001b[0m in \u001b[0;36m<module>\u001b[1;34m\u001b[0m\n\u001b[1;32m----> 1\u001b[1;33m \u001b[0mdic1\u001b[0m\u001b[1;33m[\u001b[0m\u001b[1;36m1\u001b[0m\u001b[1;33m]\u001b[0m\u001b[1;33m\u001b[0m\u001b[1;33m\u001b[0m\u001b[0m\n\u001b[0m",
      "\u001b[1;31mKeyError\u001b[0m: 1"
     ]
    }
   ],
   "source": [
    "dic1[1]"
   ]
  },
  {
   "cell_type": "code",
   "execution_count": 112,
   "metadata": {},
   "outputs": [
    {
     "data": {
      "text/plain": [
       "100"
      ]
     },
     "execution_count": 112,
     "metadata": {},
     "output_type": "execute_result"
    }
   ],
   "source": [
    "dic1['A']"
   ]
  },
  {
   "cell_type": "code",
   "execution_count": 111,
   "metadata": {},
   "outputs": [],
   "source": [
    "dic1['A'] = 100"
   ]
  },
  {
   "cell_type": "code",
   "execution_count": 113,
   "metadata": {},
   "outputs": [
    {
     "data": {
      "text/plain": [
       "{'B': 80, 'C': 70, 'D': 60, 'F': 50}"
      ]
     },
     "execution_count": 113,
     "metadata": {},
     "output_type": "execute_result"
    }
   ],
   "source": [
    "del dic1['A']\n",
    "dic1"
   ]
  },
  {
   "cell_type": "code",
   "execution_count": 115,
   "metadata": {},
   "outputs": [
    {
     "name": "stdout",
     "output_type": "stream",
     "text": [
      "B 80\n",
      "C 70\n",
      "D 60\n",
      "F 50\n"
     ]
    }
   ],
   "source": [
    "for key, value in dic1.items():\n",
    "    print(key, value)"
   ]
  },
  {
   "cell_type": "code",
   "execution_count": null,
   "metadata": {},
   "outputs": [],
   "source": []
  },
  {
   "cell_type": "markdown",
   "metadata": {},
   "source": [
    "### Set"
   ]
  },
  {
   "cell_type": "code",
   "execution_count": 116,
   "metadata": {},
   "outputs": [
    {
     "data": {
      "text/plain": [
       "dict"
      ]
     },
     "execution_count": 116,
     "metadata": {},
     "output_type": "execute_result"
    }
   ],
   "source": [
    "s = {}\n",
    "type(s)"
   ]
  },
  {
   "cell_type": "code",
   "execution_count": 117,
   "metadata": {},
   "outputs": [
    {
     "data": {
      "text/plain": [
       "set"
      ]
     },
     "execution_count": 117,
     "metadata": {},
     "output_type": "execute_result"
    }
   ],
   "source": [
    "s = {4,5,6,6,9}\n",
    "type(s)"
   ]
  },
  {
   "cell_type": "code",
   "execution_count": 119,
   "metadata": {},
   "outputs": [],
   "source": [
    "s = set([4,5,6,6,9])"
   ]
  },
  {
   "cell_type": "code",
   "execution_count": 120,
   "metadata": {},
   "outputs": [],
   "source": [
    "s = set((4,5,6,6,9))"
   ]
  },
  {
   "cell_type": "markdown",
   "metadata": {},
   "source": [
    "수학의 집합"
   ]
  },
  {
   "cell_type": "code",
   "execution_count": 121,
   "metadata": {},
   "outputs": [],
   "source": [
    "# 수학의 집합과 관련된 객체 함수\n",
    "s1 = {1, 2, 3, 4, 5, 6, 7, 8, 9, 10}\n",
    "s2 = {10, 20, 30}"
   ]
  },
  {
   "cell_type": "code",
   "execution_count": 122,
   "metadata": {},
   "outputs": [
    {
     "data": {
      "text/plain": [
       "{10}"
      ]
     },
     "execution_count": 122,
     "metadata": {},
     "output_type": "execute_result"
    }
   ],
   "source": [
    "s1 & s2"
   ]
  },
  {
   "cell_type": "code",
   "execution_count": 123,
   "metadata": {},
   "outputs": [
    {
     "data": {
      "text/plain": [
       "{10}"
      ]
     },
     "execution_count": 123,
     "metadata": {},
     "output_type": "execute_result"
    }
   ],
   "source": [
    "s1.intersection(s2)"
   ]
  },
  {
   "cell_type": "code",
   "execution_count": 124,
   "metadata": {},
   "outputs": [
    {
     "data": {
      "text/plain": [
       "{1, 2, 3, 4, 5, 6, 7, 8, 9}"
      ]
     },
     "execution_count": 124,
     "metadata": {},
     "output_type": "execute_result"
    }
   ],
   "source": [
    "s1 - s2"
   ]
  },
  {
   "cell_type": "markdown",
   "metadata": {},
   "source": [
    "## 내장함수"
   ]
  },
  {
   "cell_type": "code",
   "execution_count": 125,
   "metadata": {
    "collapsed": true,
    "jupyter": {
     "outputs_hidden": true
    }
   },
   "outputs": [
    {
     "name": "stdout",
     "output_type": "stream",
     "text": [
      "0\n",
      "2\n",
      "4\n",
      "6\n",
      "8\n",
      "10\n",
      "12\n",
      "14\n",
      "16\n",
      "18\n",
      "20\n",
      "22\n",
      "24\n",
      "26\n",
      "28\n",
      "30\n",
      "32\n",
      "34\n",
      "36\n",
      "38\n",
      "40\n",
      "42\n",
      "44\n",
      "46\n",
      "48\n",
      "50\n",
      "52\n",
      "54\n",
      "56\n",
      "58\n",
      "60\n",
      "62\n",
      "64\n",
      "66\n",
      "68\n",
      "70\n",
      "72\n",
      "74\n",
      "76\n",
      "78\n",
      "80\n",
      "82\n",
      "84\n",
      "86\n",
      "88\n",
      "90\n",
      "92\n",
      "94\n",
      "96\n",
      "98\n"
     ]
    }
   ],
   "source": [
    "for i in range(0, 100, 2):\n",
    "    print(i)"
   ]
  },
  {
   "cell_type": "markdown",
   "metadata": {},
   "source": [
    "## Looping"
   ]
  },
  {
   "cell_type": "code",
   "execution_count": null,
   "metadata": {},
   "outputs": [],
   "source": [
    "for i, color in enumerate(['red', 'yellow', 'blue', 'black', 'gray']):\n",
    "    print(i, color)"
   ]
  },
  {
   "cell_type": "code",
   "execution_count": null,
   "metadata": {},
   "outputs": [],
   "source": [
    "dic1 = {'A':90, 'B':80, 'C':70, 'D':60, 'F':50}\n",
    "for key, value in dic1.items():\n",
    "    print(key, value)"
   ]
  },
  {
   "cell_type": "code",
   "execution_count": 133,
   "metadata": {},
   "outputs": [],
   "source": [
    "seq1 = {'foo', 'bar', 'baz'}\n",
    "seq2 = {'one', 'two', 'three'}"
   ]
  },
  {
   "cell_type": "code",
   "execution_count": 134,
   "metadata": {},
   "outputs": [
    {
     "data": {
      "text/plain": [
       "<zip at 0x2e65e553808>"
      ]
     },
     "execution_count": 134,
     "metadata": {},
     "output_type": "execute_result"
    }
   ],
   "source": [
    "z = zip(seq1, seq2)\n",
    "z"
   ]
  },
  {
   "cell_type": "code",
   "execution_count": 128,
   "metadata": {},
   "outputs": [
    {
     "name": "stdout",
     "output_type": "stream",
     "text": [
      "<class 'zip'>\n"
     ]
    }
   ],
   "source": [
    "print(type(z))"
   ]
  },
  {
   "cell_type": "code",
   "execution_count": 136,
   "metadata": {},
   "outputs": [],
   "source": [
    "for i in z:\n",
    "    print(i, type(i))"
   ]
  },
  {
   "cell_type": "code",
   "execution_count": 131,
   "metadata": {},
   "outputs": [
    {
     "data": {
      "text/plain": [
       "<zip at 0x2e65e178808>"
      ]
     },
     "execution_count": 131,
     "metadata": {},
     "output_type": "execute_result"
    }
   ],
   "source": [
    "z = zip(seq1, seq2)\n",
    "z"
   ]
  },
  {
   "cell_type": "code",
   "execution_count": 132,
   "metadata": {},
   "outputs": [
    {
     "name": "stdout",
     "output_type": "stream",
     "text": [
      "0 ('bar', 'two')\n",
      "1 ('baz', 'one')\n",
      "2 ('foo', 'three')\n"
     ]
    }
   ],
   "source": [
    "for index, t in enumerate(z):\n",
    "    print(index, t)"
   ]
  },
  {
   "cell_type": "markdown",
   "metadata": {},
   "source": [
    "## Random\n",
    "\n",
    " - random()\n",
    " - input()"
   ]
  },
  {
   "cell_type": "code",
   "execution_count": 141,
   "metadata": {},
   "outputs": [
    {
     "name": "stdin",
     "output_type": "stream",
     "text": [
      "test 3\n"
     ]
    },
    {
     "data": {
      "text/plain": [
       "'3'"
      ]
     },
     "execution_count": 141,
     "metadata": {},
     "output_type": "execute_result"
    }
   ],
   "source": [
    "import random\n",
    "\n",
    "# randum nubmers for game\n",
    "rn = random.randrange(1, 101, 1)\n",
    "num = -1\n",
    "\n",
    "t_cnt = 0 #count of trying\n",
    "\n",
    "print(\"1~100 사이 숫자를 맞춰 보세요!\")\n",
    "print(\"-\"*60)\n",
    "\n",
    "\n",
    "while (rn != num):\n",
    "    num = int(input(\"1 ~ 100 사이의 숫자를 입력하세요:\"))\n",
    "\t#print(\"임시:\", rn)\n",
    "\n",
    "\tif ( num > rn):\n",
    "\t\tprint(\"큰 수를 입력했네요\")\n",
    "\telif ( num < rn):\n",
    "\t\tprint(\"작은 수를 입력했네요\")\n",
    "\n",
    "\tt_cnt +=1\n",
    "\n",
    "    \n",
    "print(\"-\"*60)\n",
    "print(t_cnt, \"번만에 정답을 맞췄네요...\")"
   ]
  },
  {
   "cell_type": "markdown",
   "metadata": {},
   "source": [
    "## 함수 범위"
   ]
  },
  {
   "cell_type": "code",
   "execution_count": 147,
   "metadata": {},
   "outputs": [],
   "source": [
    "def f(i):\n",
    "    testtest = '1111'\n",
    "    print(locals())\n",
    "    return i"
   ]
  },
  {
   "cell_type": "code",
   "execution_count": 148,
   "metadata": {},
   "outputs": [
    {
     "name": "stdout",
     "output_type": "stream",
     "text": [
      "{'testtest': '1111', 'i': 1}\n"
     ]
    },
    {
     "data": {
      "text/plain": [
       "1"
      ]
     },
     "execution_count": 148,
     "metadata": {},
     "output_type": "execute_result"
    }
   ],
   "source": [
    "f(1)"
   ]
  },
  {
   "cell_type": "code",
   "execution_count": 144,
   "metadata": {
    "collapsed": true,
    "jupyter": {
     "outputs_hidden": true
    }
   },
   "outputs": [
    {
     "data": {
      "text/plain": [
       "{'__name__': '__main__',\n",
       " '__doc__': 'Automatically created module for IPython interactive environment',\n",
       " '__package__': None,\n",
       " '__loader__': None,\n",
       " '__spec__': None,\n",
       " '__builtin__': <module 'builtins' (built-in)>,\n",
       " '__builtins__': <module 'builtins' (built-in)>,\n",
       " '_ih': ['',\n",
       "  'a = 1\\nb = a',\n",
       "  'id(a), id(b)',\n",
       "  'a = [1,2,3]\\nb = [4,5,6]\\nx = [a, b, 100]',\n",
       "  'y = x',\n",
       "  'id(a), id(b), id(x), id(y)',\n",
       "  'id(x[0]), id(x[1])',\n",
       "  'a[0] = 100\\na, x[0]',\n",
       "  'import copy',\n",
       "  'a = [1,2,3]\\nb = [4,5,6]\\nx = copy.copy(a)\\ny = copy.copy(b)',\n",
       "  'id(a), id(b), id(x), id(y)',\n",
       "  'a = [1,2,3]\\nb = [4,5,6]\\nx = [a, b, 100]',\n",
       "  'a = [1,2,3]\\nb = [4,5,6]\\nx = [a, b, 100]\\ny = copy.deepcopy(x)',\n",
       "  'a = [1,2,3]\\nb = [4,5,a]\\nx = [a, b, 100]\\ny = copy.deepcopy(x)',\n",
       "  'a is x[0]',\n",
       "  'a = [1,2,3]\\nb = [4,5,a]\\nx = [a, b, 100]\\ny = copy.deepcopy(x)',\n",
       "  'a is x[0]',\n",
       "  'id(a), id(x[0])',\n",
       "  'import sys\\n\\nsys.maxsize',\n",
       "  'type(1), type(0b111), type(1.0)',\n",
       "  'isinstance(0.1, float)',\n",
       "  \"isinstance(0.1, 'float')\",\n",
       "  'i = 0b010011\\ni',\n",
       "  'type(i)',\n",
       "  'hex(i)',\n",
       "  'oct(i)',\n",
       "  \"li = ['abc', 25, 3.14, 9]\",\n",
       "  'li[0]',\n",
       "  \"id(li[0]), id('abc')\",\n",
       "  'id(li[1]), id(25)',\n",
       "  'li[1:3]',\n",
       "  'li[1:4]',\n",
       "  'a = li[1:4]',\n",
       "  'id(a[0]), id(li[1])',\n",
       "  'id(a)',\n",
       "  'id(a), id(li)',\n",
       "  'hex(id(a)), hex(id(li))',\n",
       "  'li[:]',\n",
       "  'li[:-1]',\n",
       "  'li[-1:]',\n",
       "  'li[-2:]',\n",
       "  'li',\n",
       "  'li.reverse()',\n",
       "  'li',\n",
       "  \"li = ['abc', 25, 3.14, 9]\",\n",
       "  \"li = ['abc', 25, 3.14, 9]\",\n",
       "  \"li = ['abc', 25, 3.14, 9]\",\n",
       "  \"li = ['abc', 25, 3.14, 9]\",\n",
       "  'li.sort()\\nli',\n",
       "  'li = [0b1, 25, 3.14, 9]',\n",
       "  'li.sort()\\nli',\n",
       "  'li.reverse()\\nli',\n",
       "  'li',\n",
       "  'reversed(li)',\n",
       "  'list(reversed(li))',\n",
       "  'list(sort(li))',\n",
       "  'list(sorted(li))',\n",
       "  \"li = ['abc', 25, 3.14, 9]\",\n",
       "  \"li = ['abc', 25, 3.14, 9]\",\n",
       "  'li.sort()\\nli',\n",
       "  'li = [0b1, 25, 3.14, 9]',\n",
       "  'list(reversed(li))',\n",
       "  'li',\n",
       "  'li = [0b1, 25, 3.14, 9]',\n",
       "  'li',\n",
       "  'li_re = reversed(li)\\nli_re',\n",
       "  'type(li_re)',\n",
       "  't = 1,\\nt',\n",
       "  't = tuple(1)',\n",
       "  't = tuple()',\n",
       "  't',\n",
       "  't = ()',\n",
       "  't = 1,2,3\\nt',\n",
       "  't[0]',\n",
       "  't[1:2]',\n",
       "  \"li = list(t)\\nli[1] = ['1','2']\\nt = tuple(li)\\nt\",\n",
       "  't[1]',\n",
       "  'str = \"Hello world\"\\nst',\n",
       "  'str = \"Hello world\"\\nstr',\n",
       "  'len(str)',\n",
       "  '\"\"\"\\n이 노트북은.....\\n\"\"\"',\n",
       "  '__doc__',\n",
       "  'def myfunction():\\n    \"\"\"\\n    이 노트북은.....\\n    \"\"\"\\n    pass',\n",
       "  'myfunction.__doc__',\n",
       "  'li = [0b1, 25, 3.14, 9]',\n",
       "  'li[0:2] = [1,2]',\n",
       "  'li',\n",
       "  'hello = \"hello python\"\\nhello[1:4]',\n",
       "  'hello[0:5] = \"하나\"',\n",
       "  \"hello[1] = 'a'\",\n",
       "  'phone = \"010-1234-5678\"',\n",
       "  'type(phone)',\n",
       "  \"phone.split('-')\",\n",
       "  \"phone = phone.split('-')\\nphone\",\n",
       "  '\" \".join(phone)',\n",
       "  'phone[:2], phone[3:6]',\n",
       "  'str(phone)',\n",
       "  \"phone = phone.split('-')\\nphone\",\n",
       "  'phone = \"010-1234-5678\"',\n",
       "  \"phone = phone.split('-')\\nphone\",\n",
       "  'str(phone)',\n",
       "  's = \\'/usr/local/bin/python\\'\\n\"\\\\\\\\\".join(s.split(\\'/\\'))',\n",
       "  'msg = \"Hello python\"\\nmsg',\n",
       "  \"if msg.startswith('He'):\\n    print('OK')\",\n",
       "  \"if 'py' in msg:\\n    print('OK')\",\n",
       "  \"if msg.find('pyt'):\\n    print('OK')\",\n",
       "  '{}',\n",
       "  \"dic1 = {'A':90, 'B':80, 'C':70, 'D':60, 'F':50}\\ndic1\",\n",
       "  'dic1[1]',\n",
       "  \"dic['A']\",\n",
       "  \"dic1['A']\",\n",
       "  \"dic1['A'] = 100\",\n",
       "  \"dic1['A']\",\n",
       "  \"del dic1['A']\\ndic1\",\n",
       "  'type(dic1.items())',\n",
       "  'for key, value in dic1.items():\\n    print(key, value)',\n",
       "  's = {}\\ntype(s)',\n",
       "  's = {4,5,6,6,9}\\ntype(s)',\n",
       "  's = {[4,5,6,6,9]}',\n",
       "  's = set([4,5,6,6,9])',\n",
       "  's = set((4,5,6,6,9))',\n",
       "  '# 수학의 집합과 관련된 객체 함수\\ns1 = {1, 2, 3, 4, 5, 6, 7, 8, 9, 10}\\ns2 = {10, 20, 30}',\n",
       "  's1 & s2',\n",
       "  's1.intersection(s2)',\n",
       "  's1 - s2',\n",
       "  'for i in range(0, 100, 2):\\n    print(i)',\n",
       "  \"seq1 = {'foo', 'bar', 'baz'}\\nseq2 = {'one', 'two', 'three'}\",\n",
       "  'z = zip(seq1, seq2)\\nz',\n",
       "  'print(type(z))',\n",
       "  'for i in z:\\n    print(i, type(i))',\n",
       "  'for index, t in enumerate(z):\\n    print(index, t)',\n",
       "  'z = zip(seq1, seq2)\\nz',\n",
       "  'for index, t in enumerate(z):\\n    print(index, t)',\n",
       "  \"seq1 = {'foo', 'bar', 'baz'}\\nseq2 = {'one', 'two', 'three'}\",\n",
       "  'z = zip(seq1, seq2)\\nz',\n",
       "  'for i in z:\\n    print(i, type(i))',\n",
       "  'for i in z:\\n    print(i, type(i))',\n",
       "  'import random',\n",
       "  \"intpu('Input:')\",\n",
       "  \"intput('Input:')\",\n",
       "  \"input('test')\",\n",
       "  \"input('test')\",\n",
       "  'def f(i):\\n    print(locals)\\n    return i',\n",
       "  'f(1)',\n",
       "  'globals()'],\n",
       " '_oh': {2: (1523626176, 1523626176),\n",
       "  5: (3188407196552, 3188407196808, 3188407195272, 3188407195272),\n",
       "  6: (3188407196552, 3188407196808),\n",
       "  7: ([100, 2, 3], [100, 2, 3]),\n",
       "  10: (3188437855240, 3188406886920, 3188437855304, 3188437855368),\n",
       "  14: True,\n",
       "  16: True,\n",
       "  17: (3188407129288, 3188407129288),\n",
       "  18: 9223372036854775807,\n",
       "  19: (int, int, float),\n",
       "  20: True,\n",
       "  22: 19,\n",
       "  23: int,\n",
       "  24: '0x13',\n",
       "  25: '0o23',\n",
       "  27: 'abc',\n",
       "  28: (3188363312072, 3188363312072),\n",
       "  29: (1523626944, 1523626944),\n",
       "  30: [25, 3.14],\n",
       "  31: [25, 3.14, 9],\n",
       "  33: (1523626944, 1523626944),\n",
       "  34: 3188437642184,\n",
       "  35: (3188437642184, 3188437640584),\n",
       "  36: ('0x2e65db16bc8', '0x2e65db16588'),\n",
       "  37: ['abc', 25, 3.14, 9],\n",
       "  38: ['abc', 25, 3.14],\n",
       "  39: [9],\n",
       "  40: [3.14, 9],\n",
       "  41: [9, 3.14, 25, 'abc'],\n",
       "  43: [9, 3.14, 25, 'abc'],\n",
       "  50: [25, 9, 3.14, 1],\n",
       "  51: [25, 9, 3.14, 1],\n",
       "  52: [25, 9, 3.14, 1],\n",
       "  53: <list_reverseiterator at 0x2e65e702278>,\n",
       "  54: [1, 3.14, 9, 25],\n",
       "  56: [1, 3.14, 9, 25],\n",
       "  61: [9, 3.14, 25, 1],\n",
       "  62: [1, 25, 3.14, 9],\n",
       "  64: [1, 25, 3.14, 9],\n",
       "  65: <list_reverseiterator at 0x2e65e702ac8>,\n",
       "  66: list_reverseiterator,\n",
       "  67: (1,),\n",
       "  70: (),\n",
       "  72: (1, 2, 3),\n",
       "  73: 1,\n",
       "  74: (2,),\n",
       "  75: (1, ['1', '2'], 3),\n",
       "  76: ['1', '2'],\n",
       "  78: 'Hello world',\n",
       "  79: 11,\n",
       "  80: '\\n이 노트북은.....\\n',\n",
       "  81: 'Automatically created module for IPython interactive environment',\n",
       "  83: '\\n    이 노트북은.....\\n    ',\n",
       "  86: [1, 2, 3.14, 9],\n",
       "  87: 'ell',\n",
       "  91: str,\n",
       "  92: ['010', '1234', '5678'],\n",
       "  93: ['010', '1234', '5678'],\n",
       "  94: '010 1234 5678',\n",
       "  95: (['010', '1234'], []),\n",
       "  99: ['010', '1234', '5678'],\n",
       "  101: '\\\\usr\\\\local\\\\bin\\\\python',\n",
       "  102: 'Hello python',\n",
       "  106: {},\n",
       "  107: {'B': 80, 'C': 70, 'D': 60, 'F': 50},\n",
       "  110: 90,\n",
       "  112: 100,\n",
       "  113: {'B': 80, 'C': 70, 'D': 60, 'F': 50},\n",
       "  114: dict_items,\n",
       "  116: dict,\n",
       "  117: set,\n",
       "  122: {10},\n",
       "  123: {10},\n",
       "  124: {1, 2, 3, 4, 5, 6, 7, 8, 9},\n",
       "  127: <zip at 0x2e65e17b288>,\n",
       "  131: <zip at 0x2e65e178808>,\n",
       "  134: <zip at 0x2e65e553808>,\n",
       "  140: 'dddd',\n",
       "  141: '3',\n",
       "  143: 1},\n",
       " '_dh': ['C:\\\\Users\\\\daddy\\\\MyNotebooks'],\n",
       " 'In': ['',\n",
       "  'a = 1\\nb = a',\n",
       "  'id(a), id(b)',\n",
       "  'a = [1,2,3]\\nb = [4,5,6]\\nx = [a, b, 100]',\n",
       "  'y = x',\n",
       "  'id(a), id(b), id(x), id(y)',\n",
       "  'id(x[0]), id(x[1])',\n",
       "  'a[0] = 100\\na, x[0]',\n",
       "  'import copy',\n",
       "  'a = [1,2,3]\\nb = [4,5,6]\\nx = copy.copy(a)\\ny = copy.copy(b)',\n",
       "  'id(a), id(b), id(x), id(y)',\n",
       "  'a = [1,2,3]\\nb = [4,5,6]\\nx = [a, b, 100]',\n",
       "  'a = [1,2,3]\\nb = [4,5,6]\\nx = [a, b, 100]\\ny = copy.deepcopy(x)',\n",
       "  'a = [1,2,3]\\nb = [4,5,a]\\nx = [a, b, 100]\\ny = copy.deepcopy(x)',\n",
       "  'a is x[0]',\n",
       "  'a = [1,2,3]\\nb = [4,5,a]\\nx = [a, b, 100]\\ny = copy.deepcopy(x)',\n",
       "  'a is x[0]',\n",
       "  'id(a), id(x[0])',\n",
       "  'import sys\\n\\nsys.maxsize',\n",
       "  'type(1), type(0b111), type(1.0)',\n",
       "  'isinstance(0.1, float)',\n",
       "  \"isinstance(0.1, 'float')\",\n",
       "  'i = 0b010011\\ni',\n",
       "  'type(i)',\n",
       "  'hex(i)',\n",
       "  'oct(i)',\n",
       "  \"li = ['abc', 25, 3.14, 9]\",\n",
       "  'li[0]',\n",
       "  \"id(li[0]), id('abc')\",\n",
       "  'id(li[1]), id(25)',\n",
       "  'li[1:3]',\n",
       "  'li[1:4]',\n",
       "  'a = li[1:4]',\n",
       "  'id(a[0]), id(li[1])',\n",
       "  'id(a)',\n",
       "  'id(a), id(li)',\n",
       "  'hex(id(a)), hex(id(li))',\n",
       "  'li[:]',\n",
       "  'li[:-1]',\n",
       "  'li[-1:]',\n",
       "  'li[-2:]',\n",
       "  'li',\n",
       "  'li.reverse()',\n",
       "  'li',\n",
       "  \"li = ['abc', 25, 3.14, 9]\",\n",
       "  \"li = ['abc', 25, 3.14, 9]\",\n",
       "  \"li = ['abc', 25, 3.14, 9]\",\n",
       "  \"li = ['abc', 25, 3.14, 9]\",\n",
       "  'li.sort()\\nli',\n",
       "  'li = [0b1, 25, 3.14, 9]',\n",
       "  'li.sort()\\nli',\n",
       "  'li.reverse()\\nli',\n",
       "  'li',\n",
       "  'reversed(li)',\n",
       "  'list(reversed(li))',\n",
       "  'list(sort(li))',\n",
       "  'list(sorted(li))',\n",
       "  \"li = ['abc', 25, 3.14, 9]\",\n",
       "  \"li = ['abc', 25, 3.14, 9]\",\n",
       "  'li.sort()\\nli',\n",
       "  'li = [0b1, 25, 3.14, 9]',\n",
       "  'list(reversed(li))',\n",
       "  'li',\n",
       "  'li = [0b1, 25, 3.14, 9]',\n",
       "  'li',\n",
       "  'li_re = reversed(li)\\nli_re',\n",
       "  'type(li_re)',\n",
       "  't = 1,\\nt',\n",
       "  't = tuple(1)',\n",
       "  't = tuple()',\n",
       "  't',\n",
       "  't = ()',\n",
       "  't = 1,2,3\\nt',\n",
       "  't[0]',\n",
       "  't[1:2]',\n",
       "  \"li = list(t)\\nli[1] = ['1','2']\\nt = tuple(li)\\nt\",\n",
       "  't[1]',\n",
       "  'str = \"Hello world\"\\nst',\n",
       "  'str = \"Hello world\"\\nstr',\n",
       "  'len(str)',\n",
       "  '\"\"\"\\n이 노트북은.....\\n\"\"\"',\n",
       "  '__doc__',\n",
       "  'def myfunction():\\n    \"\"\"\\n    이 노트북은.....\\n    \"\"\"\\n    pass',\n",
       "  'myfunction.__doc__',\n",
       "  'li = [0b1, 25, 3.14, 9]',\n",
       "  'li[0:2] = [1,2]',\n",
       "  'li',\n",
       "  'hello = \"hello python\"\\nhello[1:4]',\n",
       "  'hello[0:5] = \"하나\"',\n",
       "  \"hello[1] = 'a'\",\n",
       "  'phone = \"010-1234-5678\"',\n",
       "  'type(phone)',\n",
       "  \"phone.split('-')\",\n",
       "  \"phone = phone.split('-')\\nphone\",\n",
       "  '\" \".join(phone)',\n",
       "  'phone[:2], phone[3:6]',\n",
       "  'str(phone)',\n",
       "  \"phone = phone.split('-')\\nphone\",\n",
       "  'phone = \"010-1234-5678\"',\n",
       "  \"phone = phone.split('-')\\nphone\",\n",
       "  'str(phone)',\n",
       "  's = \\'/usr/local/bin/python\\'\\n\"\\\\\\\\\".join(s.split(\\'/\\'))',\n",
       "  'msg = \"Hello python\"\\nmsg',\n",
       "  \"if msg.startswith('He'):\\n    print('OK')\",\n",
       "  \"if 'py' in msg:\\n    print('OK')\",\n",
       "  \"if msg.find('pyt'):\\n    print('OK')\",\n",
       "  '{}',\n",
       "  \"dic1 = {'A':90, 'B':80, 'C':70, 'D':60, 'F':50}\\ndic1\",\n",
       "  'dic1[1]',\n",
       "  \"dic['A']\",\n",
       "  \"dic1['A']\",\n",
       "  \"dic1['A'] = 100\",\n",
       "  \"dic1['A']\",\n",
       "  \"del dic1['A']\\ndic1\",\n",
       "  'type(dic1.items())',\n",
       "  'for key, value in dic1.items():\\n    print(key, value)',\n",
       "  's = {}\\ntype(s)',\n",
       "  's = {4,5,6,6,9}\\ntype(s)',\n",
       "  's = {[4,5,6,6,9]}',\n",
       "  's = set([4,5,6,6,9])',\n",
       "  's = set((4,5,6,6,9))',\n",
       "  '# 수학의 집합과 관련된 객체 함수\\ns1 = {1, 2, 3, 4, 5, 6, 7, 8, 9, 10}\\ns2 = {10, 20, 30}',\n",
       "  's1 & s2',\n",
       "  's1.intersection(s2)',\n",
       "  's1 - s2',\n",
       "  'for i in range(0, 100, 2):\\n    print(i)',\n",
       "  \"seq1 = {'foo', 'bar', 'baz'}\\nseq2 = {'one', 'two', 'three'}\",\n",
       "  'z = zip(seq1, seq2)\\nz',\n",
       "  'print(type(z))',\n",
       "  'for i in z:\\n    print(i, type(i))',\n",
       "  'for index, t in enumerate(z):\\n    print(index, t)',\n",
       "  'z = zip(seq1, seq2)\\nz',\n",
       "  'for index, t in enumerate(z):\\n    print(index, t)',\n",
       "  \"seq1 = {'foo', 'bar', 'baz'}\\nseq2 = {'one', 'two', 'three'}\",\n",
       "  'z = zip(seq1, seq2)\\nz',\n",
       "  'for i in z:\\n    print(i, type(i))',\n",
       "  'for i in z:\\n    print(i, type(i))',\n",
       "  'import random',\n",
       "  \"intpu('Input:')\",\n",
       "  \"intput('Input:')\",\n",
       "  \"input('test')\",\n",
       "  \"input('test')\",\n",
       "  'def f(i):\\n    print(locals)\\n    return i',\n",
       "  'f(1)',\n",
       "  'globals()'],\n",
       " 'Out': {2: (1523626176, 1523626176),\n",
       "  5: (3188407196552, 3188407196808, 3188407195272, 3188407195272),\n",
       "  6: (3188407196552, 3188407196808),\n",
       "  7: ([100, 2, 3], [100, 2, 3]),\n",
       "  10: (3188437855240, 3188406886920, 3188437855304, 3188437855368),\n",
       "  14: True,\n",
       "  16: True,\n",
       "  17: (3188407129288, 3188407129288),\n",
       "  18: 9223372036854775807,\n",
       "  19: (int, int, float),\n",
       "  20: True,\n",
       "  22: 19,\n",
       "  23: int,\n",
       "  24: '0x13',\n",
       "  25: '0o23',\n",
       "  27: 'abc',\n",
       "  28: (3188363312072, 3188363312072),\n",
       "  29: (1523626944, 1523626944),\n",
       "  30: [25, 3.14],\n",
       "  31: [25, 3.14, 9],\n",
       "  33: (1523626944, 1523626944),\n",
       "  34: 3188437642184,\n",
       "  35: (3188437642184, 3188437640584),\n",
       "  36: ('0x2e65db16bc8', '0x2e65db16588'),\n",
       "  37: ['abc', 25, 3.14, 9],\n",
       "  38: ['abc', 25, 3.14],\n",
       "  39: [9],\n",
       "  40: [3.14, 9],\n",
       "  41: [9, 3.14, 25, 'abc'],\n",
       "  43: [9, 3.14, 25, 'abc'],\n",
       "  50: [25, 9, 3.14, 1],\n",
       "  51: [25, 9, 3.14, 1],\n",
       "  52: [25, 9, 3.14, 1],\n",
       "  53: <list_reverseiterator at 0x2e65e702278>,\n",
       "  54: [1, 3.14, 9, 25],\n",
       "  56: [1, 3.14, 9, 25],\n",
       "  61: [9, 3.14, 25, 1],\n",
       "  62: [1, 25, 3.14, 9],\n",
       "  64: [1, 25, 3.14, 9],\n",
       "  65: <list_reverseiterator at 0x2e65e702ac8>,\n",
       "  66: list_reverseiterator,\n",
       "  67: (1,),\n",
       "  70: (),\n",
       "  72: (1, 2, 3),\n",
       "  73: 1,\n",
       "  74: (2,),\n",
       "  75: (1, ['1', '2'], 3),\n",
       "  76: ['1', '2'],\n",
       "  78: 'Hello world',\n",
       "  79: 11,\n",
       "  80: '\\n이 노트북은.....\\n',\n",
       "  81: 'Automatically created module for IPython interactive environment',\n",
       "  83: '\\n    이 노트북은.....\\n    ',\n",
       "  86: [1, 2, 3.14, 9],\n",
       "  87: 'ell',\n",
       "  91: str,\n",
       "  92: ['010', '1234', '5678'],\n",
       "  93: ['010', '1234', '5678'],\n",
       "  94: '010 1234 5678',\n",
       "  95: (['010', '1234'], []),\n",
       "  99: ['010', '1234', '5678'],\n",
       "  101: '\\\\usr\\\\local\\\\bin\\\\python',\n",
       "  102: 'Hello python',\n",
       "  106: {},\n",
       "  107: {'B': 80, 'C': 70, 'D': 60, 'F': 50},\n",
       "  110: 90,\n",
       "  112: 100,\n",
       "  113: {'B': 80, 'C': 70, 'D': 60, 'F': 50},\n",
       "  114: dict_items,\n",
       "  116: dict,\n",
       "  117: set,\n",
       "  122: {10},\n",
       "  123: {10},\n",
       "  124: {1, 2, 3, 4, 5, 6, 7, 8, 9},\n",
       "  127: <zip at 0x2e65e17b288>,\n",
       "  131: <zip at 0x2e65e178808>,\n",
       "  134: <zip at 0x2e65e553808>,\n",
       "  140: 'dddd',\n",
       "  141: '3',\n",
       "  143: 1},\n",
       " 'get_ipython': <bound method InteractiveShell.get_ipython of <ipykernel.zmqshell.ZMQInteractiveShell object at 0x000002E65BD3DB00>>,\n",
       " 'exit': <IPython.core.autocall.ZMQExitAutocall at 0x2e65bdaef60>,\n",
       " 'quit': <IPython.core.autocall.ZMQExitAutocall at 0x2e65bdaef60>,\n",
       " '_': 1,\n",
       " '__': '3',\n",
       " '___': 'dddd',\n",
       " '_i': 'f(1)',\n",
       " '_ii': 'def f(i):\\n    print(locals)\\n    return i',\n",
       " '_iii': \"input('test')\",\n",
       " '_i1': 'a = 1\\nb = a',\n",
       " 'a': [25, 3.14, 9],\n",
       " 'b': [4, 5, [1, 2, 3]],\n",
       " '_i2': 'id(a), id(b)',\n",
       " '_2': (1523626176, 1523626176),\n",
       " '_i3': 'a = [1,2,3]\\nb = [4,5,6]\\nx = [a, b, 100]',\n",
       " 'x': [[1, 2, 3], [4, 5, [1, 2, 3]], 100],\n",
       " '_i4': 'y = x',\n",
       " 'y': [[1, 2, 3], [4, 5, [1, 2, 3]], 100],\n",
       " '_i5': 'id(a), id(b), id(x), id(y)',\n",
       " '_5': (3188407196552, 3188407196808, 3188407195272, 3188407195272),\n",
       " '_i6': 'id(x[0]), id(x[1])',\n",
       " '_6': (3188407196552, 3188407196808),\n",
       " '_i7': 'a[0] = 100\\na, x[0]',\n",
       " '_7': ([100, 2, 3], [100, 2, 3]),\n",
       " '_i8': 'import copy',\n",
       " 'copy': <module 'copy' from 'C:\\\\Users\\\\daddy\\\\anaconda3\\\\envs\\\\py36_jupyter\\\\lib\\\\copy.py'>,\n",
       " '_i9': 'a = [1,2,3]\\nb = [4,5,6]\\nx = copy.copy(a)\\ny = copy.copy(b)',\n",
       " '_i10': 'id(a), id(b), id(x), id(y)',\n",
       " '_10': (3188437855240, 3188406886920, 3188437855304, 3188437855368),\n",
       " '_i11': 'a = [1,2,3]\\nb = [4,5,6]\\nx = [a, b, 100]',\n",
       " '_i12': 'a = [1,2,3]\\nb = [4,5,6]\\nx = [a, b, 100]\\ny = copy.deepcopy(x)',\n",
       " '_i13': 'a = [1,2,3]\\nb = [4,5,a]\\nx = [a, b, 100]\\ny = copy.deepcopy(x)',\n",
       " '_i14': 'a is x[0]',\n",
       " '_14': True,\n",
       " '_i15': 'a = [1,2,3]\\nb = [4,5,a]\\nx = [a, b, 100]\\ny = copy.deepcopy(x)',\n",
       " '_i16': 'a is x[0]',\n",
       " '_16': True,\n",
       " '_i17': 'id(a), id(x[0])',\n",
       " '_17': (3188407129288, 3188407129288),\n",
       " '_i18': 'import sys\\n\\nsys.maxsize',\n",
       " 'sys': <module 'sys' (built-in)>,\n",
       " '_18': 9223372036854775807,\n",
       " '_i19': 'type(1), type(0b111), type(1.0)',\n",
       " '_19': (int, int, float),\n",
       " '_i20': 'isinstance(0.1, float)',\n",
       " '_20': True,\n",
       " '_i21': \"isinstance(0.1, 'float')\",\n",
       " '_i22': 'i = 0b010011\\ni',\n",
       " 'i': ('foo', 'three'),\n",
       " '_22': 19,\n",
       " '_i23': 'type(i)',\n",
       " '_23': int,\n",
       " '_i24': 'hex(i)',\n",
       " '_24': '0x13',\n",
       " '_i25': 'oct(i)',\n",
       " '_25': '0o23',\n",
       " '_i26': \"li = ['abc', 25, 3.14, 9]\",\n",
       " 'li': [1, 2, 3.14, 9],\n",
       " '_i27': 'li[0]',\n",
       " '_27': 'abc',\n",
       " '_i28': \"id(li[0]), id('abc')\",\n",
       " '_28': (3188363312072, 3188363312072),\n",
       " '_i29': 'id(li[1]), id(25)',\n",
       " '_29': (1523626944, 1523626944),\n",
       " '_i30': 'li[1:3]',\n",
       " '_30': [25, 3.14],\n",
       " '_i31': 'li[1:4]',\n",
       " '_31': [25, 3.14, 9],\n",
       " '_i32': 'a = li[1:4]',\n",
       " '_i33': 'id(a[0]), id(li[1])',\n",
       " '_33': (1523626944, 1523626944),\n",
       " '_i34': 'id(a)',\n",
       " '_34': 3188437642184,\n",
       " '_i35': 'id(a), id(li)',\n",
       " '_35': (3188437642184, 3188437640584),\n",
       " '_i36': 'hex(id(a)), hex(id(li))',\n",
       " '_36': ('0x2e65db16bc8', '0x2e65db16588'),\n",
       " '_i37': 'li[:]',\n",
       " '_37': ['abc', 25, 3.14, 9],\n",
       " '_i38': 'li[:-1]',\n",
       " '_38': ['abc', 25, 3.14],\n",
       " '_i39': 'li[-1:]',\n",
       " '_39': [9],\n",
       " '_i40': 'li[-2:]',\n",
       " '_40': [3.14, 9],\n",
       " '_i41': 'li',\n",
       " '_41': [9, 3.14, 25, 'abc'],\n",
       " '_i42': 'li.reverse()',\n",
       " '_i43': 'li',\n",
       " '_43': [9, 3.14, 25, 'abc'],\n",
       " '_i44': \"li = ['abc', 25, 3.14, 9]\",\n",
       " '_i45': \"li = ['abc', 25, 3.14, 9]\",\n",
       " '_i46': \"li = ['abc', 25, 3.14, 9]\",\n",
       " '_i47': \"li = ['abc', 25, 3.14, 9]\",\n",
       " '_i48': 'li.sort()\\nli',\n",
       " '_i49': 'li = [0b1, 25, 3.14, 9]',\n",
       " '_i50': 'li.sort()\\nli',\n",
       " '_50': [25, 9, 3.14, 1],\n",
       " '_i51': 'li.reverse()\\nli',\n",
       " '_51': [25, 9, 3.14, 1],\n",
       " '_i52': 'li',\n",
       " '_52': [25, 9, 3.14, 1],\n",
       " '_i53': 'reversed(li)',\n",
       " '_53': <list_reverseiterator at 0x2e65e702278>,\n",
       " '_i54': 'list(reversed(li))',\n",
       " '_54': [1, 3.14, 9, 25],\n",
       " '_i55': 'list(sort(li))',\n",
       " '_i56': 'list(sorted(li))',\n",
       " '_56': [1, 3.14, 9, 25],\n",
       " '_i57': \"li = ['abc', 25, 3.14, 9]\",\n",
       " '_i58': \"li = ['abc', 25, 3.14, 9]\",\n",
       " '_i59': 'li.sort()\\nli',\n",
       " '_i60': 'li = [0b1, 25, 3.14, 9]',\n",
       " '_i61': 'list(reversed(li))',\n",
       " '_61': [9, 3.14, 25, 1],\n",
       " '_i62': 'li',\n",
       " '_62': [1, 25, 3.14, 9],\n",
       " '_i63': 'li = [0b1, 25, 3.14, 9]',\n",
       " '_i64': 'li',\n",
       " '_64': [1, 25, 3.14, 9],\n",
       " '_i65': 'li_re = reversed(li)\\nli_re',\n",
       " 'li_re': <list_reverseiterator at 0x2e65e702ac8>,\n",
       " '_65': <list_reverseiterator at 0x2e65e702ac8>,\n",
       " '_i66': 'type(li_re)',\n",
       " '_66': list_reverseiterator,\n",
       " '_i67': 't = 1,\\nt',\n",
       " 't': ('foo', 'three'),\n",
       " '_67': (1,),\n",
       " '_i68': 't = tuple(1)',\n",
       " '_i69': 't = tuple()',\n",
       " '_i70': 't',\n",
       " '_70': (),\n",
       " '_i71': 't = ()',\n",
       " '_i72': 't = 1,2,3\\nt',\n",
       " '_72': (1, 2, 3),\n",
       " '_i73': 't[0]',\n",
       " '_73': 1,\n",
       " '_i74': 't[1:2]',\n",
       " '_74': (2,),\n",
       " '_i75': \"li = list(t)\\nli[1] = ['1','2']\\nt = tuple(li)\\nt\",\n",
       " '_75': (1, ['1', '2'], 3),\n",
       " '_i76': 't[1]',\n",
       " '_76': ['1', '2'],\n",
       " '_i77': 'str = \"Hello world\"\\nst',\n",
       " 'str': 'Hello world',\n",
       " '_i78': 'str = \"Hello world\"\\nstr',\n",
       " '_78': 'Hello world',\n",
       " '_i79': 'len(str)',\n",
       " '_79': 11,\n",
       " '_i80': '\"\"\"\\n이 노트북은.....\\n\"\"\"',\n",
       " '_80': '\\n이 노트북은.....\\n',\n",
       " '_i81': '__doc__',\n",
       " '_81': 'Automatically created module for IPython interactive environment',\n",
       " '_i82': 'def myfunction():\\n    \"\"\"\\n    이 노트북은.....\\n    \"\"\"\\n    pass',\n",
       " 'myfunction': <function __main__.myfunction()>,\n",
       " '_i83': 'myfunction.__doc__',\n",
       " '_83': '\\n    이 노트북은.....\\n    ',\n",
       " '_i84': 'li = [0b1, 25, 3.14, 9]',\n",
       " '_i85': 'li[0:2] = [1,2]',\n",
       " '_i86': 'li',\n",
       " '_86': [1, 2, 3.14, 9],\n",
       " '_i87': 'hello = \"hello python\"\\nhello[1:4]',\n",
       " 'hello': 'hello python',\n",
       " '_87': 'ell',\n",
       " '_i88': 'hello[0:5] = \"하나\"',\n",
       " '_i89': \"hello[1] = 'a'\",\n",
       " '_i90': 'phone = \"010-1234-5678\"',\n",
       " 'phone': ['010', '1234', '5678'],\n",
       " '_i91': 'type(phone)',\n",
       " '_91': str,\n",
       " '_i92': \"phone.split('-')\",\n",
       " '_92': ['010', '1234', '5678'],\n",
       " '_i93': \"phone = phone.split('-')\\nphone\",\n",
       " '_93': ['010', '1234', '5678'],\n",
       " '_i94': '\" \".join(phone)',\n",
       " '_94': '010 1234 5678',\n",
       " '_i95': 'phone[:2], phone[3:6]',\n",
       " '_95': (['010', '1234'], []),\n",
       " '_i96': 'str(phone)',\n",
       " '_i97': \"phone = phone.split('-')\\nphone\",\n",
       " '_i98': 'phone = \"010-1234-5678\"',\n",
       " '_i99': \"phone = phone.split('-')\\nphone\",\n",
       " '_99': ['010', '1234', '5678'],\n",
       " '_i100': 'str(phone)',\n",
       " '_i101': 's = \\'/usr/local/bin/python\\'\\n\"\\\\\\\\\".join(s.split(\\'/\\'))',\n",
       " 's': {4, 5, 6, 9},\n",
       " '_101': '\\\\usr\\\\local\\\\bin\\\\python',\n",
       " '_i102': 'msg = \"Hello python\"\\nmsg',\n",
       " 'msg': 'Hello python',\n",
       " '_102': 'Hello python',\n",
       " '_i103': \"if msg.startswith('He'):\\n    print('OK')\",\n",
       " '_i104': \"if 'py' in msg:\\n    print('OK')\",\n",
       " '_i105': \"if msg.find('pyt'):\\n    print('OK')\",\n",
       " '_i106': '{}',\n",
       " '_106': {},\n",
       " '_i107': \"dic1 = {'A':90, 'B':80, 'C':70, 'D':60, 'F':50}\\ndic1\",\n",
       " 'dic1': {'B': 80, 'C': 70, 'D': 60, 'F': 50},\n",
       " '_107': {'B': 80, 'C': 70, 'D': 60, 'F': 50},\n",
       " '_i108': 'dic1[1]',\n",
       " '_i109': \"dic['A']\",\n",
       " '_i110': \"dic1['A']\",\n",
       " '_110': 90,\n",
       " '_i111': \"dic1['A'] = 100\",\n",
       " '_i112': \"dic1['A']\",\n",
       " '_112': 100,\n",
       " '_i113': \"del dic1['A']\\ndic1\",\n",
       " '_113': {'B': 80, 'C': 70, 'D': 60, 'F': 50},\n",
       " '_i114': 'type(dic1.items())',\n",
       " '_114': dict_items,\n",
       " '_i115': 'for key, value in dic1.items():\\n    print(key, value)',\n",
       " 'key': 'F',\n",
       " 'value': 50,\n",
       " '_i116': 's = {}\\ntype(s)',\n",
       " '_116': dict,\n",
       " '_i117': 's = {4,5,6,6,9}\\ntype(s)',\n",
       " '_117': set,\n",
       " '_i118': 's = {[4,5,6,6,9]}',\n",
       " '_i119': 's = set([4,5,6,6,9])',\n",
       " '_i120': 's = set((4,5,6,6,9))',\n",
       " '_i121': '# 수학의 집합과 관련된 객체 함수\\ns1 = {1, 2, 3, 4, 5, 6, 7, 8, 9, 10}\\ns2 = {10, 20, 30}',\n",
       " 's1': {1, 2, 3, 4, 5, 6, 7, 8, 9, 10},\n",
       " 's2': {10, 20, 30},\n",
       " '_i122': 's1 & s2',\n",
       " '_122': {10},\n",
       " '_i123': 's1.intersection(s2)',\n",
       " '_123': {10},\n",
       " '_i124': 's1 - s2',\n",
       " '_124': {1, 2, 3, 4, 5, 6, 7, 8, 9},\n",
       " '_i125': 'for i in range(0, 100, 2):\\n    print(i)',\n",
       " '_i126': \"seq1 = {'foo', 'bar', 'baz'}\\nseq2 = {'one', 'two', 'three'}\",\n",
       " 'seq1': {'bar', 'baz', 'foo'},\n",
       " 'seq2': {'one', 'three', 'two'},\n",
       " '_i127': 'z = zip(seq1, seq2)\\nz',\n",
       " 'z': <zip at 0x2e65e553808>,\n",
       " '_127': <zip at 0x2e65e17b288>,\n",
       " '_i128': 'print(type(z))',\n",
       " '_i129': 'for i in z:\\n    print(i, type(i))',\n",
       " '_i130': 'for index, t in enumerate(z):\\n    print(index, t)',\n",
       " '_i131': 'z = zip(seq1, seq2)\\nz',\n",
       " '_131': <zip at 0x2e65e178808>,\n",
       " '_i132': 'for index, t in enumerate(z):\\n    print(index, t)',\n",
       " 'index': 2,\n",
       " '_i133': \"seq1 = {'foo', 'bar', 'baz'}\\nseq2 = {'one', 'two', 'three'}\",\n",
       " '_i134': 'z = zip(seq1, seq2)\\nz',\n",
       " '_134': <zip at 0x2e65e553808>,\n",
       " '_i135': 'for i in z:\\n    print(i, type(i))',\n",
       " '_i136': 'for i in z:\\n    print(i, type(i))',\n",
       " '_i137': 'import random',\n",
       " 'random': <module 'random' from 'C:\\\\Users\\\\daddy\\\\anaconda3\\\\envs\\\\py36_jupyter\\\\lib\\\\random.py'>,\n",
       " '_i138': \"intpu('Input:')\",\n",
       " '_i139': \"intput('Input:')\",\n",
       " '_i140': \"input('test')\",\n",
       " '_140': 'dddd',\n",
       " '_i141': \"input('test')\",\n",
       " '_141': '3',\n",
       " '_i142': 'def f(i):\\n    print(locals)\\n    return i',\n",
       " 'f': <function __main__.f(i)>,\n",
       " '_i143': 'f(1)',\n",
       " '_143': 1,\n",
       " '_i144': 'globals()'}"
      ]
     },
     "execution_count": 144,
     "metadata": {},
     "output_type": "execute_result"
    }
   ],
   "source": [
    "globals()"
   ]
  },
  {
   "cell_type": "markdown",
   "metadata": {},
   "source": [
    "`global `, `nonlocal`"
   ]
  },
  {
   "cell_type": "code",
   "execution_count": 150,
   "metadata": {},
   "outputs": [
    {
     "name": "stdout",
     "output_type": "stream",
     "text": [
      "50\n",
      "400\n"
     ]
    }
   ],
   "source": [
    "x = 1\n",
    "y = 1\n",
    "\n",
    "def A():\n",
    "    x = 10\n",
    "    y = 100\n",
    "    def B():\n",
    "        x = 20\n",
    "        def C():\n",
    "            nonlocal x\n",
    "            nonlocal y\n",
    "            x = x + 30\n",
    "            y = y + 300\n",
    "            print(x)\n",
    "            print(y)\n",
    "        C()\n",
    "    B()\n",
    "\n",
    "A()"
   ]
  },
  {
   "cell_type": "code",
   "execution_count": 151,
   "metadata": {},
   "outputs": [
    {
     "name": "stdout",
     "output_type": "stream",
     "text": [
      "31\n",
      "301\n"
     ]
    }
   ],
   "source": [
    "x = 1\n",
    "y = 1\n",
    "\n",
    "def A():\n",
    "    x = 10\n",
    "    y = 100\n",
    "    def B():\n",
    "        x = 20\n",
    "        def C():\n",
    "            global x\n",
    "            global y\n",
    "            x = x + 30\n",
    "            y = y + 300\n",
    "            print(x)\n",
    "            print(y)\n",
    "        C()\n",
    "    B()\n",
    "\n",
    "A()"
   ]
  }
 ],
 "metadata": {
  "kernelspec": {
   "display_name": "Py36_User",
   "language": "python",
   "name": "py36_jupyter"
  },
  "language_info": {
   "codemirror_mode": {
    "name": "ipython",
    "version": 3
   },
   "file_extension": ".py",
   "mimetype": "text/x-python",
   "name": "python",
   "nbconvert_exporter": "python",
   "pygments_lexer": "ipython3",
   "version": "3.6.12"
  }
 },
 "nbformat": 4,
 "nbformat_minor": 4
}
