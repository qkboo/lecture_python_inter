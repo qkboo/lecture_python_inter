{
 "cells": [
  {
   "cell_type": "markdown",
   "metadata": {},
   "source": [
    "# threading module\n",
    "\n",
    "\n"
   ]
  },
  {
   "cell_type": "markdown",
   "metadata": {},
   "source": [
    " 객체 | 설명 \n",
    "---- | ---------------\n",
    "Thread  | 단일 실행 쓰레드를 만드는 객체 \n",
    "Lock | 기본적인 락 객체 \n",
    "RLock | 재진입 가능한 락객체. 이미 획득한 락을 다시 획득 할 수 있다. \n",
    "Condition | 다른 쓰레드에서 신호를 줄 때까지 기다릴 수 있는 컨디션 변수 객체  \n",
    "Event | 컨디션 변수의 일반화 버전. \n",
    "Semaphore  | 정해놓은 갯수만큼의 쓰레드를 허용하는 동기화 객체. (예를들어 최대 50개만 동시에 실행) \n",
    "BoundedSemaphore | 초기 설정된 값 이상으로 증가 될 수 없게 재한한 Semaphore \n",
    "Timer | Thread 와 비슷하지마 실행되기 전에 지정된 시간 동안 대기  \n",
    "Barrier | 쓰레드들이 계속 진행 할 수 있으려면 지정된 숫자의 쓰레드가 해당 지점까지 도달해야하게 만듬 (파이썬 3.2에서 처음 소개됨) "
   ]
  },
  {
   "cell_type": "markdown",
   "metadata": {},
   "source": [
    "\n",
    "파이썬에서 thread 는 기본적으로 daemon 속성이 False 인데, 메인 쓰레드가 종료되도 자신의 작업이 끝날 때까지 계속 실행된다. 부모가 종료되면 즉시 끝나게 하려면 True 를 해줘야한다. 데몬속성은 반드시 start 이전에 호출되어야 한다.\n",
    "\n",
    "\n",
    "메소드 / 속성 |  설명 \n",
    "-------- | ------------------------\n",
    "daemon |  데몬쓰레드인지 - 기본은 False, 즉 부모쓰레드가 종료되도 살아있다. \n",
    "`__init__(group,target,name,args,kwargs={},verbose,daemon)` |  객체를 초기화한다\n",
    "start() |  쓰레드를 실행한다.\n",
    "run() |  쓰레드의 기능을 정희하는 메소드 (상속해서 오버라이드됨)  \n",
    "jon(timeout=None) | 쓰레드가 종료될때까지 대기한다.\n"
   ]
  },
  {
   "cell_type": "markdown",
   "metadata": {},
   "source": [
    "## thread 생성\n",
    "\n",
    "1. 함수\n",
    "2. 상속\n"
   ]
  },
  {
   "cell_type": "code",
   "execution_count": null,
   "metadata": {},
   "outputs": [],
   "source": [
    "# Python3-Thread-1\n",
    "import threading, time\n",
    "\n",
    "# 쓰레드로 실행될 함수를 정의한다\n",
    "def myMethod(id):\n",
    "    pass"
   ]
  },
  {
   "cell_type": "code",
   "execution_count": null,
   "metadata": {},
   "outputs": [],
   "source": [
    "threads = []        # 쓰레드 객체를 모아두는 리스트이다\n",
    "\n",
    "# 쓰레드 두 개만 생성\n",
    "\n",
    "\n",
    "\n",
    "\n",
    "# 쓰레드 종료 대기    \n"
   ]
  },
  {
   "cell_type": "markdown",
   "metadata": {},
   "source": [
    "#### Sender Receiver"
   ]
  },
  {
   "cell_type": "code",
   "execution_count": null,
   "metadata": {},
   "outputs": [],
   "source": [
    "# messenger class가 내장 모듈인 thread를 상속\n",
    "\n",
    "\n",
    "\n",
    "\n",
    "# 메시지를 전송하는 send 객체\n",
    "\n",
    "# 메시지를 수신하는 receive 객체\n"
   ]
  },
  {
   "cell_type": "markdown",
   "metadata": {},
   "source": [
    "### Join\n",
    "\n",
    "쓰레드 종료를 대기"
   ]
  },
  {
   "cell_type": "code",
   "execution_count": null,
   "metadata": {},
   "outputs": [],
   "source": [
    "# Python3-Thread-2\n",
    "import threading, time\n",
    "\n",
    "# Thread의 서브 클래스를 정의한다\n",
    "class MyThread(threading.Thread):\n",
    "    # run 메써드는 쓰레드가 실행할 코드를 갖는다\n",
    "    def run(self):\n",
    "        ...\n"
   ]
  },
  {
   "cell_type": "code",
   "execution_count": null,
   "metadata": {},
   "outputs": [],
   "source": [
    "threads = []\n",
    "\n",
    "for i in range(3):\n",
    "    th = MyThread()      # 쓰레드 객체를 얻고\n",
    "    th.start()           # 시작시킨다\n",
    "    threads.append(th)   # 종료를 검사하기 위해 리스트에 잠시 저장\n",
    "\n",
    "for th in threads:\n",
    "    ...                  # 쓰레드가 끝날 때 까지 대기\n",
    "\n",
    "print('Exiting')"
   ]
  },
  {
   "cell_type": "markdown",
   "metadata": {},
   "source": [
    "#### Thread ID"
   ]
  },
  {
   "cell_type": "code",
   "execution_count": null,
   "metadata": {},
   "outputs": [],
   "source": [
    "import threading, time\n",
    "\n",
    "# Thread의 서브 클래스를 정의한다\n",
    "# threadId를 가진 스레드\n",
    "class MyThread(threading.Thread):\n",
    "    def __init__(self, threadId, name):\n",
    "        # thread Id\n",
    "        \n",
    "        # thread name\n",
    "        \n",
    "    def run(self):\n",
    "        ...\n",
    "\n",
    "threads = []\n",
    "\n",
    "for i in range(3):\n",
    "    th = MyThread(i, \"Wow %s\" % i)      # 쓰레드 객체를 얻고\n",
    "    th.start()           # 시작시킨다\n",
    "    threads.append(th)   # 종료를 검사하기 위해 리스트에 잠시 저장\n",
    "\n",
    "for th in threads:\n",
    "    th.join()    # 쓰레드가 끝날 때 까지 대기\n",
    "print('Exiting')"
   ]
  },
  {
   "cell_type": "markdown",
   "metadata": {},
   "source": [
    "---\n",
    "\n",
    "# Thread Lock\n",
    "\n",
    "Lock, Condition, Semaphore, Queue 등의 기반 락 시스템 사용 "
   ]
  },
  {
   "cell_type": "markdown",
   "metadata": {},
   "source": [
    "### Lock"
   ]
  },
  {
   "cell_type": "code",
   "execution_count": null,
   "metadata": {},
   "outputs": [],
   "source": [
    "# Python3-Thread-3\n",
    "import threading\n",
    "\n",
    "g_count = 0\n",
    "\n",
    "class MyThread(threading.Thread):\n",
    "    def run(self):\n",
    "        global g_count\n",
    "        for i in range(10):\n",
    "            ...                  # 락을 얻고\n",
    "            g_count += 1        # 배타적으로 실행권을 얻어서 처리하고\n",
    "            ...                # 락을 푼다\n",
    "\n",
    "# 락 생성\n",
    "...\n",
    "\n",
    "\n",
    "threads = []\n",
    "for i in range(10):\n",
    "    th = MyThread()\n",
    "    th.start()\n",
    "    threads.append(th)\n",
    "\n",
    "for th in threads:\n",
    "    th.join()\n",
    "\n",
    "    \n",
    "print('Exiting', g_count)"
   ]
  },
  {
   "cell_type": "markdown",
   "metadata": {},
   "source": [
    "#### Suspend, resume\n",
    "\n",
    "\n",
    "python Thread에 Suspend, Resume, Exit이 따로 없기 때문에 멤버변수로 제어하는 방식으로 추가해 놓았다.\n"
   ]
  },
  {
   "cell_type": "code",
   "execution_count": null,
   "metadata": {},
   "outputs": [],
   "source": [
    "class MyExample(threading.Thread):\n",
    "    def __init__(self):\n",
    "        ...\n",
    "    \n",
    "    def run(self):\n",
    "        ...\n",
    "    \n",
    "    def mySuspend(self):\n",
    "        ...\n",
    "    \n",
    "    def myResume(self):\n",
    "        ...\n",
    "        \n",
    "    def myExit(self):\n",
    "        ...\n",
    "    "
   ]
  },
  {
   "cell_type": "code",
   "execution_count": null,
   "metadata": {},
   "outputs": [],
   "source": [
    "lock = threading.Lock()\n",
    "\n",
    "thread = MyExample()\n",
    "thread.start()\n",
    "time.sleep(1)\n",
    "\n",
    "#suspend\n",
    "thread.mySuspend()\n",
    "with lock:\n",
    "    print(\"Suspended thread...\")\n",
    "time.sleep(1)\n",
    "\n",
    "#resume\n",
    "thread.myResume()\n",
    "with lock:\n",
    "    print(\"Resume....\")\n",
    "time.sleep(1)\n",
    "\n",
    "# exit\n",
    "thread.myExit()"
   ]
  },
  {
   "cell_type": "markdown",
   "metadata": {},
   "source": [
    "### Semaphore\n",
    "\n",
    "Semaphore 는 시스템의 공통 영역을 통해 Lock-Unlock 기법을 구현한다. 파이썬의 Semaphore 는 정해진 갯수의 쓰레드만 통과시켜준다. "
   ]
  },
  {
   "cell_type": "code",
   "execution_count": null,
   "metadata": {},
   "outputs": [],
   "source": [
    "# Semaphore를 이용한 스레드\n",
    "import threading\n",
    "\n",
    "def calc():\n",
    "    for i in range(500):\n",
    "        i += i\n",
    "    return i\n",
    "\n",
    "# semaphore 3개\n",
    "sem = threading.Semaphore(3)"
   ]
  },
  {
   "cell_type": "code",
   "execution_count": null,
   "metadata": {},
   "outputs": [],
   "source": [
    "#exam1\n",
    "class RestrictedArea(threading.Thread):\n",
    "    def run(self):\n",
    "        # exam1\n",
    "        for x in range(500):\n",
    "            # before stuff\n",
    "            sem.acquire()\n",
    "            # do something...\n",
    "            sem.release()\n",
    "            # after stuㅉff\n",
    "\n",
    "threads = []\n",
    "for i in range(100):\n",
    "    threads.append(RestrictedArea())\n",
    "\n",
    "for th in threads:\n",
    "    th.start()\n",
    "for th in threads:\n",
    "    th.join()\n",
    "print(\"Exiting...\")"
   ]
  },
  {
   "cell_type": "code",
   "execution_count": null,
   "metadata": {},
   "outputs": [],
   "source": [
    "# exam2\n",
    "class RestrictedArea(threading.Thread):\n",
    "    def run(self):\n",
    "        # exam2\n",
    "        sem.acquire()\n",
    "        i = calc()\n",
    "        sem.release()\n",
    "\n",
    "        print(\"%s:%s\" % (self.getName(), i))\n",
    "\n",
    "threads = []\n",
    "for i in range(100):\n",
    "    threads.append(RestrictedArea())\n",
    "\n",
    "for th in threads:\n",
    "    th.start()\n",
    "for th in threads:\n",
    "    th.join()\n",
    "print(\"Exiting...\")"
   ]
  },
  {
   "cell_type": "code",
   "execution_count": null,
   "metadata": {},
   "outputs": [],
   "source": [
    "# Exam3\n",
    "class RestrictedArea(threading.Thread):\n",
    "    def run(self):\n",
    "        # exam3\n",
    "        for i in range(500):\n",
    "            sem.acquire()\n",
    "            i += i\n",
    "            sem.release()\n",
    "        print(\"%s:%s\" % (self.getName(), i))\n",
    "\n",
    "\n",
    "threads = []\n",
    "for i in range(100):\n",
    "    threads.append(RestrictedArea())\n",
    "\n",
    "for th in threads:\n",
    "    th.start()\n",
    "for th in threads:\n",
    "    th.join()\n",
    "print(\"Exiting...\")"
   ]
  },
  {
   "cell_type": "markdown",
   "metadata": {},
   "source": [
    "### Event"
   ]
  },
  {
   "cell_type": "code",
   "execution_count": null,
   "metadata": {},
   "outputs": [],
   "source": [
    "# thread based events\n",
    "import threading\n",
    "\n",
    "eve = threading.Event()\n",
    "\n",
    "class PrepareThread(threading.Thread):\n",
    "    def run(self):\n",
    "        eve.set()   #사용준비를 알린다\n",
    "        print(\"Trigger event, and Ready!!!\")\n",
    "\n",
    "class ActionThread(threading.Thread):\n",
    "    def run(self):\n",
    "        print(self.getName(), ' waiting')\n",
    "        # PreparedThread가 준비될 때까지 기다린다.\n",
    "        eve.wait()\n",
    "        # work...\n",
    "        print(self.getName(), ' done!')\n",
    "    \n",
    "    \n",
    "thlist = []\n",
    "for i in range(5):\n",
    "    thlist.append(ActionThread())\n",
    "for th in thlist:\n",
    "    th.start()\n",
    "\n",
    "# 이벤트가 발생한다    \n",
    "PrepareThread().start()\n",
    "\n",
    "for th in thlist:\n",
    "    th.join()\n",
    "print('Exiting')"
   ]
  },
  {
   "cell_type": "markdown",
   "metadata": {},
   "source": [
    "### Queue"
   ]
  },
  {
   "cell_type": "code",
   "execution_count": null,
   "metadata": {},
   "outputs": [],
   "source": [
    "# - Queue: https://docs.python.org/3/library/queue.html\n",
    "import threading\n",
    "import time, random\n",
    "from queue import Queue\n",
    "\n",
    "NR_CONSUMER = 10                  # 소비자 쓰레드의 수\n",
    "NR_PRODUCER = NR_CONSUMER // 2     # 생산자 쓰레드의 수\n",
    "\n",
    "que = Queue(10)\n",
    "\n",
    "class Consumer(threading.Thread):\n",
    "    def run(self):\n",
    "        for i in range(5):\n",
    "            print(que.get())\n",
    "            time.sleep(0.0)\n",
    "\n",
    "class Producer(threading.Thread):\n",
    "    def run(self):\n",
    "        for i in range(10):\n",
    "            que.put(random.randint(0, 20))\n",
    "            time.sleep(0.0)\n"
   ]
  },
  {
   "cell_type": "code",
   "execution_count": null,
   "metadata": {},
   "outputs": [],
   "source": [
    "con = []       # 소비자 쓰레드 리스트\n",
    "pro = []       # 생산자 쓰레드 리스트\n",
    "\n",
    "for i in range(NR_CONSUMER):\n",
    "    con.append(Consumer())   # 소비자 쓰레드 생성\n",
    "\n",
    "for i in range(NR_PRODUCER):\n",
    "    pro.append(Producer())   # 생산자 쓰레드 생성\n",
    "\n",
    "for th in con: # 소비자 쓰레드 먼저 시작\n",
    "    th.start()\n",
    "\n",
    "for th in pro: # 생산자 쓰레드 시작\n",
    "    th.start()\n",
    "\n",
    "for th in con: # 소비자가 종료할 때까지 대기\n",
    "    th.join()\n",
    "\n",
    "for th in pro: # 생산자가 종료할 때까지 대기\n",
    "    th.join()\n",
    "\n",
    "print('Exiting')"
   ]
  }
 ],
 "metadata": {
  "kernelspec": {
   "display_name": "Python 3",
   "language": "python",
   "name": "python3"
  },
  "language_info": {
   "codemirror_mode": {
    "name": "ipython",
    "version": 3
   },
   "file_extension": ".py",
   "mimetype": "text/x-python",
   "name": "python",
   "nbconvert_exporter": "python",
   "pygments_lexer": "ipython3",
   "version": "3.8.5"
  }
 },
 "nbformat": 4,
 "nbformat_minor": 4
}
