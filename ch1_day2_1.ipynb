{
 "cells": [
  {
   "cell_type": "markdown",
   "metadata": {},
   "source": [
    "# 데이터 모델\n",
    "\n",
    "### 객체의 값 대입\n",
    "\n",
    "- 심볼\n",
    "    - 아이덴티티: `id()`\n",
    "- 값\n",
    "- 심볼테이블\n",
    "- "
   ]
  },
  {
   "cell_type": "code",
   "execution_count": 1,
   "metadata": {},
   "outputs": [],
   "source": [
    "a = b = c = 5"
   ]
  },
  {
   "cell_type": "code",
   "execution_count": 2,
   "metadata": {},
   "outputs": [
    {
     "data": {
      "text/plain": [
       "(140732604164000, 140732604164000, 140732604164000)"
      ]
     },
     "execution_count": 2,
     "metadata": {},
     "output_type": "execute_result"
    }
   ],
   "source": [
    "id(a), id(b), id(c)"
   ]
  },
  {
   "cell_type": "code",
   "execution_count": 3,
   "metadata": {},
   "outputs": [],
   "source": [
    "del a"
   ]
  },
  {
   "cell_type": "code",
   "execution_count": 5,
   "metadata": {},
   "outputs": [
    {
     "data": {
      "text/plain": [
       "(140732604164000, 140732604164000)"
      ]
     },
     "execution_count": 5,
     "metadata": {},
     "output_type": "execute_result"
    }
   ],
   "source": [
    "id(b), id(c)"
   ]
  },
  {
   "cell_type": "code",
   "execution_count": 7,
   "metadata": {},
   "outputs": [],
   "source": [
    "b = 'a'\n",
    "c = 10"
   ]
  },
  {
   "cell_type": "code",
   "execution_count": 8,
   "metadata": {},
   "outputs": [
    {
     "data": {
      "text/plain": [
       "(1948692401968, 140732604164160)"
      ]
     },
     "execution_count": 8,
     "metadata": {},
     "output_type": "execute_result"
    }
   ],
   "source": [
    "id(b), id(c)"
   ]
  },
  {
   "cell_type": "markdown",
   "metadata": {},
   "source": [
    "#### reference count\n",
    "\n",
    "`sys.getrefcount()`"
   ]
  },
  {
   "cell_type": "code",
   "execution_count": 9,
   "metadata": {},
   "outputs": [],
   "source": [
    "import sys"
   ]
  },
  {
   "cell_type": "code",
   "execution_count": 10,
   "metadata": {},
   "outputs": [],
   "source": [
    "a = b = c = 10"
   ]
  },
  {
   "cell_type": "code",
   "execution_count": 11,
   "metadata": {},
   "outputs": [
    {
     "data": {
      "text/plain": [
       "201"
      ]
     },
     "execution_count": 11,
     "metadata": {},
     "output_type": "execute_result"
    }
   ],
   "source": [
    "sys.getrefcount(a)"
   ]
  },
  {
   "cell_type": "code",
   "execution_count": 12,
   "metadata": {},
   "outputs": [],
   "source": [
    "del a"
   ]
  },
  {
   "cell_type": "code",
   "execution_count": 14,
   "metadata": {},
   "outputs": [
    {
     "data": {
      "text/plain": [
       "199"
      ]
     },
     "execution_count": 14,
     "metadata": {},
     "output_type": "execute_result"
    }
   ],
   "source": [
    "sys.getrefcount(b)"
   ]
  },
  {
   "cell_type": "code",
   "execution_count": 15,
   "metadata": {},
   "outputs": [
    {
     "data": {
      "text/plain": [
       "199"
      ]
     },
     "execution_count": 15,
     "metadata": {},
     "output_type": "execute_result"
    }
   ],
   "source": [
    "sys.getrefcount(c)"
   ]
  },
  {
   "cell_type": "markdown",
   "metadata": {},
   "source": [
    "#### 글로벌, 로컬\n",
    "\n",
    "심볼의 범위"
   ]
  },
  {
   "cell_type": "code",
   "execution_count": 16,
   "metadata": {},
   "outputs": [
    {
     "data": {
      "text/plain": [
       "{'__name__': '__main__',\n",
       " '__doc__': 'Automatically created module for IPython interactive environment',\n",
       " '__package__': None,\n",
       " '__loader__': None,\n",
       " '__spec__': None,\n",
       " '__builtin__': <module 'builtins' (built-in)>,\n",
       " '__builtins__': <module 'builtins' (built-in)>,\n",
       " '_ih': ['',\n",
       "  'a = b = c = 5',\n",
       "  'id(a), id(b), id(c)',\n",
       "  'del a',\n",
       "  'id(a), id(b), id(c)',\n",
       "  'id(b), id(c)',\n",
       "  \"b = 'a', c = 10\",\n",
       "  \"b = 'a'\\nc = 10\",\n",
       "  'id(b), id(c)',\n",
       "  'import sys',\n",
       "  'a = b = c = 10',\n",
       "  'sys.getrefcount(a)',\n",
       "  'del a',\n",
       "  'sys.getrefcount(a)',\n",
       "  'sys.getrefcount(b)',\n",
       "  'sys.getrefcount(c)',\n",
       "  'globals()'],\n",
       " '_oh': {2: (140732604164000, 140732604164000, 140732604164000),\n",
       "  5: (140732604164000, 140732604164000),\n",
       "  8: (1948692401968, 140732604164160),\n",
       "  11: 201,\n",
       "  14: 199,\n",
       "  15: 199},\n",
       " '_dh': ['C:\\\\Users\\\\daddy\\\\MyNotebooks'],\n",
       " 'In': ['',\n",
       "  'a = b = c = 5',\n",
       "  'id(a), id(b), id(c)',\n",
       "  'del a',\n",
       "  'id(a), id(b), id(c)',\n",
       "  'id(b), id(c)',\n",
       "  \"b = 'a', c = 10\",\n",
       "  \"b = 'a'\\nc = 10\",\n",
       "  'id(b), id(c)',\n",
       "  'import sys',\n",
       "  'a = b = c = 10',\n",
       "  'sys.getrefcount(a)',\n",
       "  'del a',\n",
       "  'sys.getrefcount(a)',\n",
       "  'sys.getrefcount(b)',\n",
       "  'sys.getrefcount(c)',\n",
       "  'globals()'],\n",
       " 'Out': {2: (140732604164000, 140732604164000, 140732604164000),\n",
       "  5: (140732604164000, 140732604164000),\n",
       "  8: (1948692401968, 140732604164160),\n",
       "  11: 201,\n",
       "  14: 199,\n",
       "  15: 199},\n",
       " 'get_ipython': <bound method InteractiveShell.get_ipython of <ipykernel.zmqshell.ZMQInteractiveShell object at 0x000001C5B993A610>>,\n",
       " 'exit': <IPython.core.autocall.ZMQExitAutocall at 0x1c5b99c1d00>,\n",
       " 'quit': <IPython.core.autocall.ZMQExitAutocall at 0x1c5b99c1d00>,\n",
       " '_': 199,\n",
       " '__': 199,\n",
       " '___': 201,\n",
       " '_i': 'sys.getrefcount(c)',\n",
       " '_ii': 'sys.getrefcount(b)',\n",
       " '_iii': 'sys.getrefcount(a)',\n",
       " '_i1': 'a = b = c = 5',\n",
       " 'b': 10,\n",
       " 'c': 10,\n",
       " '_i2': 'id(a), id(b), id(c)',\n",
       " '_2': (140732604164000, 140732604164000, 140732604164000),\n",
       " '_i3': 'del a',\n",
       " '_i4': 'id(a), id(b), id(c)',\n",
       " '_i5': 'id(b), id(c)',\n",
       " '_5': (140732604164000, 140732604164000),\n",
       " '_i6': \"b = 'a', c = 10\",\n",
       " '_i7': \"b = 'a'\\nc = 10\",\n",
       " '_i8': 'id(b), id(c)',\n",
       " '_8': (1948692401968, 140732604164160),\n",
       " '_i9': 'import sys',\n",
       " 'sys': <module 'sys' (built-in)>,\n",
       " '_i10': 'a = b = c = 10',\n",
       " '_i11': 'sys.getrefcount(a)',\n",
       " '_11': 201,\n",
       " '_i12': 'del a',\n",
       " '_i13': 'sys.getrefcount(a)',\n",
       " '_i14': 'sys.getrefcount(b)',\n",
       " '_14': 199,\n",
       " '_i15': 'sys.getrefcount(c)',\n",
       " '_15': 199,\n",
       " '_i16': 'globals()'}"
      ]
     },
     "execution_count": 16,
     "metadata": {},
     "output_type": "execute_result"
    }
   ],
   "source": [
    "globals()"
   ]
  },
  {
   "cell_type": "code",
   "execution_count": 17,
   "metadata": {},
   "outputs": [
    {
     "data": {
      "text/plain": [
       "{'__name__': '__main__',\n",
       " '__doc__': 'Automatically created module for IPython interactive environment',\n",
       " '__package__': None,\n",
       " '__loader__': None,\n",
       " '__spec__': None,\n",
       " '__builtin__': <module 'builtins' (built-in)>,\n",
       " '__builtins__': <module 'builtins' (built-in)>,\n",
       " '_ih': ['',\n",
       "  'a = b = c = 5',\n",
       "  'id(a), id(b), id(c)',\n",
       "  'del a',\n",
       "  'id(a), id(b), id(c)',\n",
       "  'id(b), id(c)',\n",
       "  \"b = 'a', c = 10\",\n",
       "  \"b = 'a'\\nc = 10\",\n",
       "  'id(b), id(c)',\n",
       "  'import sys',\n",
       "  'a = b = c = 10',\n",
       "  'sys.getrefcount(a)',\n",
       "  'del a',\n",
       "  'sys.getrefcount(a)',\n",
       "  'sys.getrefcount(b)',\n",
       "  'sys.getrefcount(c)',\n",
       "  'globals()',\n",
       "  'locals()'],\n",
       " '_oh': {2: (140732604164000, 140732604164000, 140732604164000),\n",
       "  5: (140732604164000, 140732604164000),\n",
       "  8: (1948692401968, 140732604164160),\n",
       "  11: 201,\n",
       "  14: 199,\n",
       "  15: 199,\n",
       "  16: {...}},\n",
       " '_dh': ['C:\\\\Users\\\\daddy\\\\MyNotebooks'],\n",
       " 'In': ['',\n",
       "  'a = b = c = 5',\n",
       "  'id(a), id(b), id(c)',\n",
       "  'del a',\n",
       "  'id(a), id(b), id(c)',\n",
       "  'id(b), id(c)',\n",
       "  \"b = 'a', c = 10\",\n",
       "  \"b = 'a'\\nc = 10\",\n",
       "  'id(b), id(c)',\n",
       "  'import sys',\n",
       "  'a = b = c = 10',\n",
       "  'sys.getrefcount(a)',\n",
       "  'del a',\n",
       "  'sys.getrefcount(a)',\n",
       "  'sys.getrefcount(b)',\n",
       "  'sys.getrefcount(c)',\n",
       "  'globals()',\n",
       "  'locals()'],\n",
       " 'Out': {2: (140732604164000, 140732604164000, 140732604164000),\n",
       "  5: (140732604164000, 140732604164000),\n",
       "  8: (1948692401968, 140732604164160),\n",
       "  11: 201,\n",
       "  14: 199,\n",
       "  15: 199,\n",
       "  16: {...}},\n",
       " 'get_ipython': <bound method InteractiveShell.get_ipython of <ipykernel.zmqshell.ZMQInteractiveShell object at 0x000001C5B993A610>>,\n",
       " 'exit': <IPython.core.autocall.ZMQExitAutocall at 0x1c5b99c1d00>,\n",
       " 'quit': <IPython.core.autocall.ZMQExitAutocall at 0x1c5b99c1d00>,\n",
       " '_': {...},\n",
       " '__': 199,\n",
       " '___': 199,\n",
       " '_i': 'globals()',\n",
       " '_ii': 'sys.getrefcount(c)',\n",
       " '_iii': 'sys.getrefcount(b)',\n",
       " '_i1': 'a = b = c = 5',\n",
       " 'b': 10,\n",
       " 'c': 10,\n",
       " '_i2': 'id(a), id(b), id(c)',\n",
       " '_2': (140732604164000, 140732604164000, 140732604164000),\n",
       " '_i3': 'del a',\n",
       " '_i4': 'id(a), id(b), id(c)',\n",
       " '_i5': 'id(b), id(c)',\n",
       " '_5': (140732604164000, 140732604164000),\n",
       " '_i6': \"b = 'a', c = 10\",\n",
       " '_i7': \"b = 'a'\\nc = 10\",\n",
       " '_i8': 'id(b), id(c)',\n",
       " '_8': (1948692401968, 140732604164160),\n",
       " '_i9': 'import sys',\n",
       " 'sys': <module 'sys' (built-in)>,\n",
       " '_i10': 'a = b = c = 10',\n",
       " '_i11': 'sys.getrefcount(a)',\n",
       " '_11': 201,\n",
       " '_i12': 'del a',\n",
       " '_i13': 'sys.getrefcount(a)',\n",
       " '_i14': 'sys.getrefcount(b)',\n",
       " '_14': 199,\n",
       " '_i15': 'sys.getrefcount(c)',\n",
       " '_15': 199,\n",
       " '_i16': 'globals()',\n",
       " '_16': {...},\n",
       " '_i17': 'locals()'}"
      ]
     },
     "execution_count": 17,
     "metadata": {},
     "output_type": "execute_result"
    }
   ],
   "source": [
    "locals()"
   ]
  },
  {
   "cell_type": "code",
   "execution_count": 18,
   "metadata": {},
   "outputs": [],
   "source": [
    "a = 1000"
   ]
  },
  {
   "cell_type": "code",
   "execution_count": 19,
   "metadata": {},
   "outputs": [
    {
     "data": {
      "text/plain": [
       "{'__name__': '__main__',\n",
       " '__doc__': 'Automatically created module for IPython interactive environment',\n",
       " '__package__': None,\n",
       " '__loader__': None,\n",
       " '__spec__': None,\n",
       " '__builtin__': <module 'builtins' (built-in)>,\n",
       " '__builtins__': <module 'builtins' (built-in)>,\n",
       " '_ih': ['',\n",
       "  'a = b = c = 5',\n",
       "  'id(a), id(b), id(c)',\n",
       "  'del a',\n",
       "  'id(a), id(b), id(c)',\n",
       "  'id(b), id(c)',\n",
       "  \"b = 'a', c = 10\",\n",
       "  \"b = 'a'\\nc = 10\",\n",
       "  'id(b), id(c)',\n",
       "  'import sys',\n",
       "  'a = b = c = 10',\n",
       "  'sys.getrefcount(a)',\n",
       "  'del a',\n",
       "  'sys.getrefcount(a)',\n",
       "  'sys.getrefcount(b)',\n",
       "  'sys.getrefcount(c)',\n",
       "  'globals()',\n",
       "  'locals()',\n",
       "  'a = 1000',\n",
       "  'globals()'],\n",
       " '_oh': {2: (140732604164000, 140732604164000, 140732604164000),\n",
       "  5: (140732604164000, 140732604164000),\n",
       "  8: (1948692401968, 140732604164160),\n",
       "  11: 201,\n",
       "  14: 199,\n",
       "  15: 199,\n",
       "  16: {...},\n",
       "  17: {...}},\n",
       " '_dh': ['C:\\\\Users\\\\daddy\\\\MyNotebooks'],\n",
       " 'In': ['',\n",
       "  'a = b = c = 5',\n",
       "  'id(a), id(b), id(c)',\n",
       "  'del a',\n",
       "  'id(a), id(b), id(c)',\n",
       "  'id(b), id(c)',\n",
       "  \"b = 'a', c = 10\",\n",
       "  \"b = 'a'\\nc = 10\",\n",
       "  'id(b), id(c)',\n",
       "  'import sys',\n",
       "  'a = b = c = 10',\n",
       "  'sys.getrefcount(a)',\n",
       "  'del a',\n",
       "  'sys.getrefcount(a)',\n",
       "  'sys.getrefcount(b)',\n",
       "  'sys.getrefcount(c)',\n",
       "  'globals()',\n",
       "  'locals()',\n",
       "  'a = 1000',\n",
       "  'globals()'],\n",
       " 'Out': {2: (140732604164000, 140732604164000, 140732604164000),\n",
       "  5: (140732604164000, 140732604164000),\n",
       "  8: (1948692401968, 140732604164160),\n",
       "  11: 201,\n",
       "  14: 199,\n",
       "  15: 199,\n",
       "  16: {...},\n",
       "  17: {...}},\n",
       " 'get_ipython': <bound method InteractiveShell.get_ipython of <ipykernel.zmqshell.ZMQInteractiveShell object at 0x000001C5B993A610>>,\n",
       " 'exit': <IPython.core.autocall.ZMQExitAutocall at 0x1c5b99c1d00>,\n",
       " 'quit': <IPython.core.autocall.ZMQExitAutocall at 0x1c5b99c1d00>,\n",
       " '_': {...},\n",
       " '__': {...},\n",
       " '___': 199,\n",
       " '_i': 'a = 1000',\n",
       " '_ii': 'locals()',\n",
       " '_iii': 'globals()',\n",
       " '_i1': 'a = b = c = 5',\n",
       " 'b': 10,\n",
       " 'c': 10,\n",
       " '_i2': 'id(a), id(b), id(c)',\n",
       " '_2': (140732604164000, 140732604164000, 140732604164000),\n",
       " '_i3': 'del a',\n",
       " '_i4': 'id(a), id(b), id(c)',\n",
       " '_i5': 'id(b), id(c)',\n",
       " '_5': (140732604164000, 140732604164000),\n",
       " '_i6': \"b = 'a', c = 10\",\n",
       " '_i7': \"b = 'a'\\nc = 10\",\n",
       " '_i8': 'id(b), id(c)',\n",
       " '_8': (1948692401968, 140732604164160),\n",
       " '_i9': 'import sys',\n",
       " 'sys': <module 'sys' (built-in)>,\n",
       " '_i10': 'a = b = c = 10',\n",
       " '_i11': 'sys.getrefcount(a)',\n",
       " '_11': 201,\n",
       " '_i12': 'del a',\n",
       " '_i13': 'sys.getrefcount(a)',\n",
       " '_i14': 'sys.getrefcount(b)',\n",
       " '_14': 199,\n",
       " '_i15': 'sys.getrefcount(c)',\n",
       " '_15': 199,\n",
       " '_i16': 'globals()',\n",
       " '_16': {...},\n",
       " '_i17': 'locals()',\n",
       " '_17': {...},\n",
       " '_i18': 'a = 1000',\n",
       " 'a': 1000,\n",
       " '_i19': 'globals()'}"
      ]
     },
     "execution_count": 19,
     "metadata": {},
     "output_type": "execute_result"
    }
   ],
   "source": [
    "globals()"
   ]
  },
  {
   "cell_type": "code",
   "execution_count": 20,
   "metadata": {},
   "outputs": [
    {
     "data": {
      "text/plain": [
       "(int, int, int)"
      ]
     },
     "execution_count": 20,
     "metadata": {},
     "output_type": "execute_result"
    }
   ],
   "source": [
    "type(a), type(b), type(c)"
   ]
  },
  {
   "cell_type": "code",
   "execution_count": 22,
   "metadata": {},
   "outputs": [
    {
     "data": {
      "text/plain": [
       "(1000, 10, 10)"
      ]
     },
     "execution_count": 22,
     "metadata": {},
     "output_type": "execute_result"
    }
   ],
   "source": [
    "a, b, c"
   ]
  },
  {
   "cell_type": "code",
   "execution_count": 23,
   "metadata": {},
   "outputs": [
    {
     "data": {
      "text/plain": [
       "True"
      ]
     },
     "execution_count": 23,
     "metadata": {},
     "output_type": "execute_result"
    }
   ],
   "source": [
    "b == c"
   ]
  },
  {
   "cell_type": "code",
   "execution_count": 25,
   "metadata": {},
   "outputs": [
    {
     "data": {
      "text/plain": [
       "True"
      ]
     },
     "execution_count": 25,
     "metadata": {},
     "output_type": "execute_result"
    }
   ],
   "source": [
    "b is c"
   ]
  },
  {
   "cell_type": "code",
   "execution_count": 26,
   "metadata": {},
   "outputs": [
    {
     "data": {
      "text/plain": [
       "str"
      ]
     },
     "execution_count": 26,
     "metadata": {},
     "output_type": "execute_result"
    }
   ],
   "source": [
    "type('문자')"
   ]
  },
  {
   "cell_type": "code",
   "execution_count": 27,
   "metadata": {},
   "outputs": [
    {
     "data": {
      "text/plain": [
       "False"
      ]
     },
     "execution_count": 27,
     "metadata": {},
     "output_type": "execute_result"
    }
   ],
   "source": [
    "'문자' == '문'"
   ]
  },
  {
   "cell_type": "markdown",
   "metadata": {},
   "source": [
    "## Mutable, Immutable"
   ]
  },
  {
   "cell_type": "markdown",
   "metadata": {},
   "source": [
    "Mutable: list, dict, set"
   ]
  },
  {
   "cell_type": "code",
   "execution_count": 28,
   "metadata": {},
   "outputs": [
    {
     "data": {
      "text/plain": [
       "[10, 100, '홍길동', [1, 2, 3]]"
      ]
     },
     "execution_count": 28,
     "metadata": {},
     "output_type": "execute_result"
    }
   ],
   "source": [
    "list1 = [ 10, 100, '홍길동', [1,2,3]]\n",
    "list1"
   ]
  },
  {
   "cell_type": "code",
   "execution_count": 29,
   "metadata": {},
   "outputs": [
    {
     "data": {
      "text/plain": [
       "(10, '홍길동')"
      ]
     },
     "execution_count": 29,
     "metadata": {},
     "output_type": "execute_result"
    }
   ],
   "source": [
    "list1[0], list1[2]"
   ]
  },
  {
   "cell_type": "code",
   "execution_count": 30,
   "metadata": {},
   "outputs": [
    {
     "data": {
      "text/plain": [
       "['안녕', 100, '홍길동', [1, 2, 3]]"
      ]
     },
     "execution_count": 30,
     "metadata": {},
     "output_type": "execute_result"
    }
   ],
   "source": [
    "list1[0] = '안녕'\n",
    "list1"
   ]
  },
  {
   "cell_type": "code",
   "execution_count": null,
   "metadata": {},
   "outputs": [],
   "source": []
  },
  {
   "cell_type": "code",
   "execution_count": 31,
   "metadata": {},
   "outputs": [
    {
     "data": {
      "text/plain": [
       "{'A': 'a', '이름': '홍길동'}"
      ]
     },
     "execution_count": 31,
     "metadata": {},
     "output_type": "execute_result"
    }
   ],
   "source": [
    "dic1 = {'A': 'a', '이름': '홍길동'}\n",
    "dic1"
   ]
  },
  {
   "cell_type": "code",
   "execution_count": 33,
   "metadata": {},
   "outputs": [
    {
     "data": {
      "text/plain": [
       "'a'"
      ]
     },
     "execution_count": 33,
     "metadata": {},
     "output_type": "execute_result"
    }
   ],
   "source": [
    "dic1['A']"
   ]
  },
  {
   "cell_type": "code",
   "execution_count": 35,
   "metadata": {},
   "outputs": [
    {
     "data": {
      "text/plain": [
       "{'A': '에이', '이름': '홍길동'}"
      ]
     },
     "execution_count": 35,
     "metadata": {},
     "output_type": "execute_result"
    }
   ],
   "source": [
    "dic1['A'] = '에이'\n",
    "dic1"
   ]
  },
  {
   "cell_type": "markdown",
   "metadata": {},
   "source": [
    "Immutable: number, string, tuple, bytes"
   ]
  },
  {
   "cell_type": "code",
   "execution_count": 36,
   "metadata": {},
   "outputs": [
    {
     "data": {
      "text/plain": [
       "'파이썬은 멋집니다.'"
      ]
     },
     "execution_count": 36,
     "metadata": {},
     "output_type": "execute_result"
    }
   ],
   "source": [
    "msg = \"파이썬은 멋집니다.\"\n",
    "msg"
   ]
  },
  {
   "cell_type": "code",
   "execution_count": 38,
   "metadata": {},
   "outputs": [
    {
     "data": {
      "text/plain": [
       "('파', '다.')"
      ]
     },
     "execution_count": 38,
     "metadata": {},
     "output_type": "execute_result"
    }
   ],
   "source": [
    "msg[0], msg[-2:]"
   ]
  },
  {
   "cell_type": "code",
   "execution_count": 39,
   "metadata": {},
   "outputs": [
    {
     "ename": "TypeError",
     "evalue": "'str' object does not support item assignment",
     "output_type": "error",
     "traceback": [
      "\u001b[1;31m---------------------------------------------------------------------------\u001b[0m",
      "\u001b[1;31mTypeError\u001b[0m                                 Traceback (most recent call last)",
      "\u001b[1;32m<ipython-input-39-16e24e5e4388>\u001b[0m in \u001b[0;36m<module>\u001b[1;34m\u001b[0m\n\u001b[1;32m----> 1\u001b[1;33m \u001b[0mmsg\u001b[0m\u001b[1;33m[\u001b[0m\u001b[1;36m0\u001b[0m\u001b[1;33m]\u001b[0m \u001b[1;33m=\u001b[0m \u001b[1;34m'싸'\u001b[0m\u001b[1;33m\u001b[0m\u001b[1;33m\u001b[0m\u001b[0m\n\u001b[0m\u001b[0;32m      2\u001b[0m \u001b[0mmsg\u001b[0m\u001b[1;33m\u001b[0m\u001b[1;33m\u001b[0m\u001b[0m\n",
      "\u001b[1;31mTypeError\u001b[0m: 'str' object does not support item assignment"
     ]
    }
   ],
   "source": [
    "msg[0] = '싸'\n",
    "msg"
   ]
  },
  {
   "cell_type": "markdown",
   "metadata": {},
   "source": [
    "#### 동등 비교\n",
    "\n",
    "1. `==`: 값\n",
    "2. `is`: 객체 심볼 비교"
   ]
  },
  {
   "cell_type": "code",
   "execution_count": 42,
   "metadata": {},
   "outputs": [],
   "source": [
    "a = 10\n",
    "b = 10"
   ]
  },
  {
   "cell_type": "code",
   "execution_count": 43,
   "metadata": {},
   "outputs": [
    {
     "data": {
      "text/plain": [
       "(140732604164160, 140732604164160)"
      ]
     },
     "execution_count": 43,
     "metadata": {},
     "output_type": "execute_result"
    }
   ],
   "source": [
    "id(a), id(b)"
   ]
  },
  {
   "cell_type": "code",
   "execution_count": 46,
   "metadata": {},
   "outputs": [
    {
     "data": {
      "text/plain": [
       "True"
      ]
     },
     "execution_count": 46,
     "metadata": {},
     "output_type": "execute_result"
    }
   ],
   "source": [
    "a is b"
   ]
  },
  {
   "cell_type": "code",
   "execution_count": 40,
   "metadata": {},
   "outputs": [],
   "source": [
    "list1 = [1, 2, 3]\n",
    "list2 = [1, 2, 3]"
   ]
  },
  {
   "cell_type": "code",
   "execution_count": 41,
   "metadata": {},
   "outputs": [
    {
     "data": {
      "text/plain": [
       "(1948751256512, 1948751794816)"
      ]
     },
     "execution_count": 41,
     "metadata": {},
     "output_type": "execute_result"
    }
   ],
   "source": [
    "id(list1), id(list2)"
   ]
  },
  {
   "cell_type": "code",
   "execution_count": 44,
   "metadata": {},
   "outputs": [
    {
     "data": {
      "text/plain": [
       "True"
      ]
     },
     "execution_count": 44,
     "metadata": {},
     "output_type": "execute_result"
    }
   ],
   "source": [
    "list1 == list2"
   ]
  },
  {
   "cell_type": "code",
   "execution_count": 45,
   "metadata": {},
   "outputs": [
    {
     "data": {
      "text/plain": [
       "False"
      ]
     },
     "execution_count": 45,
     "metadata": {},
     "output_type": "execute_result"
    }
   ],
   "source": [
    "list1 is list2"
   ]
  },
  {
   "cell_type": "code",
   "execution_count": 48,
   "metadata": {},
   "outputs": [],
   "source": [
    "str1 = '가나'\n",
    "str2 = '가나'"
   ]
  },
  {
   "cell_type": "code",
   "execution_count": 49,
   "metadata": {},
   "outputs": [
    {
     "data": {
      "text/plain": [
       "(1948751819856, 1948751822256)"
      ]
     },
     "execution_count": 49,
     "metadata": {},
     "output_type": "execute_result"
    }
   ],
   "source": [
    "id(str1), id(str2)"
   ]
  },
  {
   "cell_type": "code",
   "execution_count": 50,
   "metadata": {},
   "outputs": [
    {
     "data": {
      "text/plain": [
       "False"
      ]
     },
     "execution_count": 50,
     "metadata": {},
     "output_type": "execute_result"
    }
   ],
   "source": [
    "str1 is str2"
   ]
  },
  {
   "cell_type": "code",
   "execution_count": 51,
   "metadata": {},
   "outputs": [
    {
     "data": {
      "text/plain": [
       "True"
      ]
     },
     "execution_count": 51,
     "metadata": {},
     "output_type": "execute_result"
    }
   ],
   "source": [
    "str1 == str2"
   ]
  },
  {
   "cell_type": "code",
   "execution_count": 52,
   "metadata": {},
   "outputs": [],
   "source": [
    "str1 = 'abc'\n",
    "str2 = 'abc'"
   ]
  },
  {
   "cell_type": "code",
   "execution_count": 53,
   "metadata": {},
   "outputs": [
    {
     "data": {
      "text/plain": [
       "(1948692504176, 1948692504176)"
      ]
     },
     "execution_count": 53,
     "metadata": {},
     "output_type": "execute_result"
    }
   ],
   "source": [
    "id(str1), id(str2)"
   ]
  },
  {
   "cell_type": "code",
   "execution_count": null,
   "metadata": {},
   "outputs": [],
   "source": []
  }
 ],
 "metadata": {
  "kernelspec": {
   "display_name": "Python 3",
   "language": "python",
   "name": "python3"
  },
  "language_info": {
   "codemirror_mode": {
    "name": "ipython",
    "version": 3
   },
   "file_extension": ".py",
   "mimetype": "text/x-python",
   "name": "python",
   "nbconvert_exporter": "python",
   "pygments_lexer": "ipython3",
   "version": "3.8.5"
  }
 },
 "nbformat": 4,
 "nbformat_minor": 4
}
