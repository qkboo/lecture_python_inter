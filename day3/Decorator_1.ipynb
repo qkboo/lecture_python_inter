{
 "cells": [
  {
   "cell_type": "code",
   "execution_count": null,
   "metadata": {},
   "outputs": [],
   "source": [
    "def bar():\n",
    "    return 100"
   ]
  },
  {
   "cell_type": "code",
   "execution_count": null,
   "metadata": {},
   "outputs": [],
   "source": []
  },
  {
   "cell_type": "code",
   "execution_count": 1,
   "metadata": {},
   "outputs": [],
   "source": [
    "def foo():\n",
    "    return 100"
   ]
  },
  {
   "cell_type": "code",
   "execution_count": 4,
   "metadata": {},
   "outputs": [
    {
     "data": {
      "text/plain": [
       "<function __main__.foo()>"
      ]
     },
     "execution_count": 4,
     "metadata": {},
     "output_type": "execute_result"
    }
   ],
   "source": [
    "foo"
   ]
  },
  {
   "cell_type": "code",
   "execution_count": 5,
   "metadata": {},
   "outputs": [
    {
     "data": {
      "text/plain": [
       "function"
      ]
     },
     "execution_count": 5,
     "metadata": {},
     "output_type": "execute_result"
    }
   ],
   "source": [
    "type(foo)"
   ]
  },
  {
   "cell_type": "code",
   "execution_count": 6,
   "metadata": {
    "collapsed": true,
    "jupyter": {
     "outputs_hidden": true
    }
   },
   "outputs": [
    {
     "data": {
      "text/plain": [
       "{'__name__': '__main__',\n",
       " '__doc__': 'Automatically created module for IPython interactive environment',\n",
       " '__package__': None,\n",
       " '__loader__': None,\n",
       " '__spec__': None,\n",
       " '__builtin__': <module 'builtins' (built-in)>,\n",
       " '__builtins__': <module 'builtins' (built-in)>,\n",
       " '_ih': ['',\n",
       "  'def foo():\\n    return 100',\n",
       "  'foo',\n",
       "  'type(foo)',\n",
       "  'foo',\n",
       "  'type(foo)',\n",
       "  'globals()'],\n",
       " '_oh': {2: <function __main__.foo()>,\n",
       "  3: function,\n",
       "  4: <function __main__.foo()>,\n",
       "  5: function},\n",
       " '_dh': ['C:\\\\Users\\\\daddy\\\\MyNotebooks'],\n",
       " 'In': ['',\n",
       "  'def foo():\\n    return 100',\n",
       "  'foo',\n",
       "  'type(foo)',\n",
       "  'foo',\n",
       "  'type(foo)',\n",
       "  'globals()'],\n",
       " 'Out': {2: <function __main__.foo()>,\n",
       "  3: function,\n",
       "  4: <function __main__.foo()>,\n",
       "  5: function},\n",
       " 'get_ipython': <bound method InteractiveShell.get_ipython of <ipykernel.zmqshell.ZMQInteractiveShell object at 0x000002974D1FA640>>,\n",
       " 'exit': <IPython.core.autocall.ZMQExitAutocall at 0x2974d27fd00>,\n",
       " 'quit': <IPython.core.autocall.ZMQExitAutocall at 0x2974d27fd00>,\n",
       " '_': function,\n",
       " '__': <function __main__.foo()>,\n",
       " '___': function,\n",
       " '_i': 'type(foo)',\n",
       " '_ii': 'foo',\n",
       " '_iii': 'type(foo)',\n",
       " '_i1': 'def foo():\\n    return 100',\n",
       " 'foo': <function __main__.foo()>,\n",
       " '_i2': 'foo',\n",
       " '_2': <function __main__.foo()>,\n",
       " '_i3': 'type(foo)',\n",
       " '_3': function,\n",
       " '_i4': 'foo',\n",
       " '_4': <function __main__.foo()>,\n",
       " '_i5': 'type(foo)',\n",
       " '_5': function,\n",
       " '_i6': 'globals()'}"
      ]
     },
     "execution_count": 6,
     "metadata": {},
     "output_type": "execute_result"
    }
   ],
   "source": [
    "globals()"
   ]
  },
  {
   "cell_type": "markdown",
   "metadata": {},
   "source": [
    "#### 함수의 로컬 네임스페이스\n",
    "\n",
    " - 로컬 네임스페이스: 로컬 심볼!!!"
   ]
  },
  {
   "cell_type": "code",
   "execution_count": 8,
   "metadata": {},
   "outputs": [],
   "source": [
    "def abc():\n",
    "    a = 345\n",
    "    print(locals())"
   ]
  },
  {
   "cell_type": "code",
   "execution_count": 9,
   "metadata": {},
   "outputs": [
    {
     "name": "stdout",
     "output_type": "stream",
     "text": [
      "{'a': 345}\n"
     ]
    }
   ],
   "source": [
    "abc()"
   ]
  },
  {
   "cell_type": "code",
   "execution_count": 10,
   "metadata": {},
   "outputs": [],
   "source": [
    "def abc(x, y):\n",
    "    a = 345\n",
    "    print(locals())"
   ]
  },
  {
   "cell_type": "code",
   "execution_count": 11,
   "metadata": {},
   "outputs": [
    {
     "name": "stdout",
     "output_type": "stream",
     "text": [
      "{'x': 1, 'y': 0, 'a': 345}\n"
     ]
    }
   ],
   "source": [
    "abc(1, 0)"
   ]
  },
  {
   "cell_type": "markdown",
   "metadata": {},
   "source": [
    "#### 글로벌 네임스페이스"
   ]
  },
  {
   "cell_type": "code",
   "execution_count": 12,
   "metadata": {
    "collapsed": true,
    "jupyter": {
     "outputs_hidden": true
    }
   },
   "outputs": [
    {
     "data": {
      "text/plain": [
       "{'__name__': '__main__',\n",
       " '__doc__': 'Automatically created module for IPython interactive environment',\n",
       " '__package__': None,\n",
       " '__loader__': None,\n",
       " '__spec__': None,\n",
       " '__builtin__': <module 'builtins' (built-in)>,\n",
       " '__builtins__': <module 'builtins' (built-in)>,\n",
       " '_ih': ['',\n",
       "  'def foo():\\n    return 100',\n",
       "  'foo',\n",
       "  'type(foo)',\n",
       "  'foo',\n",
       "  'type(foo)',\n",
       "  'globals()',\n",
       "  'def abc():\\n    a = 345\\n    print(locals())',\n",
       "  'def abc():\\n    a = 345\\n    print(locals())',\n",
       "  'abc()',\n",
       "  'def abc(x, y):\\n    a = 345\\n    print(locals())',\n",
       "  'abc(1, 0)',\n",
       "  'locals()'],\n",
       " '_oh': {2: <function __main__.foo()>,\n",
       "  3: function,\n",
       "  4: <function __main__.foo()>,\n",
       "  5: function,\n",
       "  6: {...}},\n",
       " '_dh': ['C:\\\\Users\\\\daddy\\\\MyNotebooks'],\n",
       " 'In': ['',\n",
       "  'def foo():\\n    return 100',\n",
       "  'foo',\n",
       "  'type(foo)',\n",
       "  'foo',\n",
       "  'type(foo)',\n",
       "  'globals()',\n",
       "  'def abc():\\n    a = 345\\n    print(locals())',\n",
       "  'def abc():\\n    a = 345\\n    print(locals())',\n",
       "  'abc()',\n",
       "  'def abc(x, y):\\n    a = 345\\n    print(locals())',\n",
       "  'abc(1, 0)',\n",
       "  'locals()'],\n",
       " 'Out': {2: <function __main__.foo()>,\n",
       "  3: function,\n",
       "  4: <function __main__.foo()>,\n",
       "  5: function,\n",
       "  6: {...}},\n",
       " 'get_ipython': <bound method InteractiveShell.get_ipython of <ipykernel.zmqshell.ZMQInteractiveShell object at 0x000002974D1FA640>>,\n",
       " 'exit': <IPython.core.autocall.ZMQExitAutocall at 0x2974d27fd00>,\n",
       " 'quit': <IPython.core.autocall.ZMQExitAutocall at 0x2974d27fd00>,\n",
       " '_': {...},\n",
       " '__': function,\n",
       " '___': <function __main__.foo()>,\n",
       " '_i': 'abc(1, 0)',\n",
       " '_ii': 'def abc(x, y):\\n    a = 345\\n    print(locals())',\n",
       " '_iii': 'abc()',\n",
       " '_i1': 'def foo():\\n    return 100',\n",
       " 'foo': <function __main__.foo()>,\n",
       " '_i2': 'foo',\n",
       " '_2': <function __main__.foo()>,\n",
       " '_i3': 'type(foo)',\n",
       " '_3': function,\n",
       " '_i4': 'foo',\n",
       " '_4': <function __main__.foo()>,\n",
       " '_i5': 'type(foo)',\n",
       " '_5': function,\n",
       " '_i6': 'globals()',\n",
       " '_6': {...},\n",
       " '_i7': 'def abc():\\n    a = 345\\n    print(locals())',\n",
       " 'abc': <function __main__.abc(x, y)>,\n",
       " '_i8': 'def abc():\\n    a = 345\\n    print(locals())',\n",
       " '_i9': 'abc()',\n",
       " '_i10': 'def abc(x, y):\\n    a = 345\\n    print(locals())',\n",
       " '_i11': 'abc(1, 0)',\n",
       " '_i12': 'locals()'}"
      ]
     },
     "execution_count": 12,
     "metadata": {},
     "output_type": "execute_result"
    }
   ],
   "source": [
    "locals()"
   ]
  },
  {
   "cell_type": "code",
   "execution_count": 13,
   "metadata": {
    "collapsed": true,
    "jupyter": {
     "outputs_hidden": true
    }
   },
   "outputs": [
    {
     "data": {
      "text/plain": [
       "{'__name__': '__main__',\n",
       " '__doc__': 'Automatically created module for IPython interactive environment',\n",
       " '__package__': None,\n",
       " '__loader__': None,\n",
       " '__spec__': None,\n",
       " '__builtin__': <module 'builtins' (built-in)>,\n",
       " '__builtins__': <module 'builtins' (built-in)>,\n",
       " '_ih': ['',\n",
       "  'def foo():\\n    return 100',\n",
       "  'foo',\n",
       "  'type(foo)',\n",
       "  'foo',\n",
       "  'type(foo)',\n",
       "  'globals()',\n",
       "  'def abc():\\n    a = 345\\n    print(locals())',\n",
       "  'def abc():\\n    a = 345\\n    print(locals())',\n",
       "  'abc()',\n",
       "  'def abc(x, y):\\n    a = 345\\n    print(locals())',\n",
       "  'abc(1, 0)',\n",
       "  'locals()',\n",
       "  'globals()'],\n",
       " '_oh': {2: <function __main__.foo()>,\n",
       "  3: function,\n",
       "  4: <function __main__.foo()>,\n",
       "  5: function,\n",
       "  6: {...},\n",
       "  12: {...}},\n",
       " '_dh': ['C:\\\\Users\\\\daddy\\\\MyNotebooks'],\n",
       " 'In': ['',\n",
       "  'def foo():\\n    return 100',\n",
       "  'foo',\n",
       "  'type(foo)',\n",
       "  'foo',\n",
       "  'type(foo)',\n",
       "  'globals()',\n",
       "  'def abc():\\n    a = 345\\n    print(locals())',\n",
       "  'def abc():\\n    a = 345\\n    print(locals())',\n",
       "  'abc()',\n",
       "  'def abc(x, y):\\n    a = 345\\n    print(locals())',\n",
       "  'abc(1, 0)',\n",
       "  'locals()',\n",
       "  'globals()'],\n",
       " 'Out': {2: <function __main__.foo()>,\n",
       "  3: function,\n",
       "  4: <function __main__.foo()>,\n",
       "  5: function,\n",
       "  6: {...},\n",
       "  12: {...}},\n",
       " 'get_ipython': <bound method InteractiveShell.get_ipython of <ipykernel.zmqshell.ZMQInteractiveShell object at 0x000002974D1FA640>>,\n",
       " 'exit': <IPython.core.autocall.ZMQExitAutocall at 0x2974d27fd00>,\n",
       " 'quit': <IPython.core.autocall.ZMQExitAutocall at 0x2974d27fd00>,\n",
       " '_': {...},\n",
       " '__': {...},\n",
       " '___': function,\n",
       " '_i': 'locals()',\n",
       " '_ii': 'abc(1, 0)',\n",
       " '_iii': 'def abc(x, y):\\n    a = 345\\n    print(locals())',\n",
       " '_i1': 'def foo():\\n    return 100',\n",
       " 'foo': <function __main__.foo()>,\n",
       " '_i2': 'foo',\n",
       " '_2': <function __main__.foo()>,\n",
       " '_i3': 'type(foo)',\n",
       " '_3': function,\n",
       " '_i4': 'foo',\n",
       " '_4': <function __main__.foo()>,\n",
       " '_i5': 'type(foo)',\n",
       " '_5': function,\n",
       " '_i6': 'globals()',\n",
       " '_6': {...},\n",
       " '_i7': 'def abc():\\n    a = 345\\n    print(locals())',\n",
       " 'abc': <function __main__.abc(x, y)>,\n",
       " '_i8': 'def abc():\\n    a = 345\\n    print(locals())',\n",
       " '_i9': 'abc()',\n",
       " '_i10': 'def abc(x, y):\\n    a = 345\\n    print(locals())',\n",
       " '_i11': 'abc(1, 0)',\n",
       " '_i12': 'locals()',\n",
       " '_12': {...},\n",
       " '_i13': 'globals()'}"
      ]
     },
     "execution_count": 13,
     "metadata": {},
     "output_type": "execute_result"
    }
   ],
   "source": [
    "globals()"
   ]
  },
  {
   "cell_type": "markdown",
   "metadata": {},
   "source": [
    "글로벌과 로컬 영역!"
   ]
  },
  {
   "cell_type": "code",
   "execution_count": 14,
   "metadata": {},
   "outputs": [],
   "source": [
    "str_g = \"글로벌 영역 객체\"\n",
    "\n",
    "def abc(x, y):\n",
    "    a = 345\n",
    "    print(locals())"
   ]
  },
  {
   "cell_type": "code",
   "execution_count": 15,
   "metadata": {},
   "outputs": [
    {
     "data": {
      "text/plain": [
       "'글로벌 영역 객체'"
      ]
     },
     "execution_count": 15,
     "metadata": {},
     "output_type": "execute_result"
    }
   ],
   "source": [
    "str_g"
   ]
  },
  {
   "cell_type": "code",
   "execution_count": 16,
   "metadata": {},
   "outputs": [
    {
     "name": "stdout",
     "output_type": "stream",
     "text": [
      "{'x': 0, 'y': 1, 'a': 345}\n"
     ]
    }
   ],
   "source": [
    "abc(0, 1)"
   ]
  },
  {
   "cell_type": "code",
   "execution_count": 17,
   "metadata": {},
   "outputs": [],
   "source": [
    "str_g = \"글로벌 영역 객체\"\n",
    "\n",
    "def abc(x, y):\n",
    "    a = 345\n",
    "    print(globals())"
   ]
  },
  {
   "cell_type": "code",
   "execution_count": 18,
   "metadata": {
    "collapsed": true,
    "jupyter": {
     "outputs_hidden": true
    }
   },
   "outputs": [
    {
     "name": "stdout",
     "output_type": "stream",
     "text": [
      "{'__name__': '__main__', '__doc__': 'Automatically created module for IPython interactive environment', '__package__': None, '__loader__': None, '__spec__': None, '__builtin__': <module 'builtins' (built-in)>, '__builtins__': <module 'builtins' (built-in)>, '_ih': ['', 'def foo():\\n    return 100', 'foo', 'type(foo)', 'foo', 'type(foo)', 'globals()', 'def abc():\\n    a = 345\\n    print(locals())', 'def abc():\\n    a = 345\\n    print(locals())', 'abc()', 'def abc(x, y):\\n    a = 345\\n    print(locals())', 'abc(1, 0)', 'locals()', 'globals()', 'str_g = \"글로벌 영역 객체\"\\n\\ndef abc(x, y):\\n    a = 345\\n    print(locals())', 'str_g', 'abc(0, 1)', 'str_g = \"글로벌 영역 객체\"\\n\\ndef abc(x, y):\\n    a = 345\\n    print(globals())', 'abc(0, 1)'], '_oh': {2: <function foo at 0x000002974D2CB8B0>, 3: <class 'function'>, 4: <function foo at 0x000002974D2CB8B0>, 5: <class 'function'>, 6: {...}, 12: {...}, 13: {...}, 15: '글로벌 영역 객체'}, '_dh': ['C:\\\\Users\\\\daddy\\\\MyNotebooks'], 'In': ['', 'def foo():\\n    return 100', 'foo', 'type(foo)', 'foo', 'type(foo)', 'globals()', 'def abc():\\n    a = 345\\n    print(locals())', 'def abc():\\n    a = 345\\n    print(locals())', 'abc()', 'def abc(x, y):\\n    a = 345\\n    print(locals())', 'abc(1, 0)', 'locals()', 'globals()', 'str_g = \"글로벌 영역 객체\"\\n\\ndef abc(x, y):\\n    a = 345\\n    print(locals())', 'str_g', 'abc(0, 1)', 'str_g = \"글로벌 영역 객체\"\\n\\ndef abc(x, y):\\n    a = 345\\n    print(globals())', 'abc(0, 1)'], 'Out': {2: <function foo at 0x000002974D2CB8B0>, 3: <class 'function'>, 4: <function foo at 0x000002974D2CB8B0>, 5: <class 'function'>, 6: {...}, 12: {...}, 13: {...}, 15: '글로벌 영역 객체'}, 'get_ipython': <bound method InteractiveShell.get_ipython of <ipykernel.zmqshell.ZMQInteractiveShell object at 0x000002974D1FA640>>, 'exit': <IPython.core.autocall.ZMQExitAutocall object at 0x000002974D27FD00>, 'quit': <IPython.core.autocall.ZMQExitAutocall object at 0x000002974D27FD00>, '_': '글로벌 영역 객체', '__': {...}, '___': {...}, '_i': 'str_g = \"글로벌 영역 객체\"\\n\\ndef abc(x, y):\\n    a = 345\\n    print(globals())', '_ii': 'abc(0, 1)', '_iii': 'str_g', '_i1': 'def foo():\\n    return 100', 'foo': <function foo at 0x000002974D2CB8B0>, '_i2': 'foo', '_2': <function foo at 0x000002974D2CB8B0>, '_i3': 'type(foo)', '_3': <class 'function'>, '_i4': 'foo', '_4': <function foo at 0x000002974D2CB8B0>, '_i5': 'type(foo)', '_5': <class 'function'>, '_i6': 'globals()', '_6': {...}, '_i7': 'def abc():\\n    a = 345\\n    print(locals())', 'abc': <function abc at 0x000002974D2CB790>, '_i8': 'def abc():\\n    a = 345\\n    print(locals())', '_i9': 'abc()', '_i10': 'def abc(x, y):\\n    a = 345\\n    print(locals())', '_i11': 'abc(1, 0)', '_i12': 'locals()', '_12': {...}, '_i13': 'globals()', '_13': {...}, '_i14': 'str_g = \"글로벌 영역 객체\"\\n\\ndef abc(x, y):\\n    a = 345\\n    print(locals())', 'str_g': '글로벌 영역 객체', '_i15': 'str_g', '_15': '글로벌 영역 객체', '_i16': 'abc(0, 1)', '_i17': 'str_g = \"글로벌 영역 객체\"\\n\\ndef abc(x, y):\\n    a = 345\\n    print(globals())', '_i18': 'abc(0, 1)'}\n"
     ]
    }
   ],
   "source": [
    "abc(0, 1)"
   ]
  },
  {
   "cell_type": "code",
   "execution_count": null,
   "metadata": {},
   "outputs": [],
   "source": []
  },
  {
   "cell_type": "code",
   "execution_count": 19,
   "metadata": {},
   "outputs": [],
   "source": [
    "str_g = \"글로벌 영역 객체\"\n",
    "\n",
    "def abc(x, y):\n",
    "    a = 345\n",
    "    return str_g"
   ]
  },
  {
   "cell_type": "code",
   "execution_count": 20,
   "metadata": {},
   "outputs": [
    {
     "data": {
      "text/plain": [
       "'글로벌 영역 객체'"
      ]
     },
     "execution_count": 20,
     "metadata": {},
     "output_type": "execute_result"
    }
   ],
   "source": [
    "abc(0, 1)"
   ]
  },
  {
   "cell_type": "markdown",
   "metadata": {},
   "source": [
    "## 객체의 라이프 타임"
   ]
  },
  {
   "cell_type": "code",
   "execution_count": 21,
   "metadata": {},
   "outputs": [],
   "source": [
    "str_g = \"글로벌 영역 객체\"\n",
    "\n",
    "def abc():\n",
    "    str_g = \"로컬 영역 객체\"\n",
    "    print(locals())"
   ]
  },
  {
   "cell_type": "code",
   "execution_count": 22,
   "metadata": {},
   "outputs": [
    {
     "name": "stdout",
     "output_type": "stream",
     "text": [
      "{'str_g': '로컬 영역 객체'}\n"
     ]
    }
   ],
   "source": [
    "abc()"
   ]
  },
  {
   "cell_type": "code",
   "execution_count": 23,
   "metadata": {},
   "outputs": [
    {
     "data": {
      "text/plain": [
       "'글로벌 영역 객체'"
      ]
     },
     "execution_count": 23,
     "metadata": {},
     "output_type": "execute_result"
    }
   ],
   "source": [
    "str_g"
   ]
  }
 ],
 "metadata": {
  "kernelspec": {
   "display_name": "Python 3",
   "language": "python",
   "name": "python3"
  },
  "language_info": {
   "codemirror_mode": {
    "name": "ipython",
    "version": 3
   },
   "file_extension": ".py",
   "mimetype": "text/x-python",
   "name": "python",
   "nbconvert_exporter": "python",
   "pygments_lexer": "ipython3",
   "version": "3.8.5"
  }
 },
 "nbformat": 4,
 "nbformat_minor": 4
}
